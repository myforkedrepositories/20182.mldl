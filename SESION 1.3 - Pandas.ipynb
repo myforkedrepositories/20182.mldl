{
  "nbformat": 4,
  "nbformat_minor": 0,
  "metadata": {
    "colab": {
      "name": "SESION 1.3 - Pandas.ipynb",
      "version": "0.3.2",
      "provenance": [],
      "include_colab_link": true
    },
    "kernelspec": {
      "display_name": "Python 2",
      "language": "python",
      "name": "python2"
    }
  },
  "cells": [
    {
      "cell_type": "markdown",
      "metadata": {
        "id": "view-in-github",
        "colab_type": "text"
      },
      "source": [
        "<a href=\"https://colab.research.google.com/github/myforkedrepositories/20182.mldl/blob/master/SESION%201.3%20-%20Pandas.ipynb\" target=\"_parent\"><img src=\"https://colab.research.google.com/assets/colab-badge.svg\" alt=\"Open In Colab\"/></a>"
      ]
    },
    {
      "metadata": {
        "collapsed": true,
        "id": "eCin6JiBbCuJ",
        "colab_type": "text"
      },
      "cell_type": "markdown",
      "source": [
        "# intro to pandas\n",
        "\n",
        "see more tutorials at https://pandas.pydata.org/pandas-docs/stable/tutorials.html"
      ]
    },
    {
      "metadata": {
        "id": "DiUNmZNabCuO",
        "colab_type": "code",
        "colab": {}
      },
      "cell_type": "code",
      "source": [
        "import pandas as pd\n",
        "import numpy as np\n",
        "import matplotlib.pyplot as plt\n",
        "%matplotlib inline"
      ],
      "execution_count": 0,
      "outputs": []
    },
    {
      "metadata": {
        "id": "kqyYMpfQbCuX",
        "colab_type": "text"
      },
      "cell_type": "markdown",
      "source": [
        "## loading and inspecting"
      ]
    },
    {
      "metadata": {
        "id": "IAHm2eQJbCua",
        "colab_type": "code",
        "colab": {}
      },
      "cell_type": "code",
      "source": [
        "d = pd.read_csv(\"https://raw.githubusercontent.com/myforkedrepositories/20182.mldl/master/data/comptagevelo2009.csv\")"
      ],
      "execution_count": 0,
      "outputs": []
    },
    {
      "metadata": {
        "id": "5TSQ_3-obCuh",
        "colab_type": "code",
        "colab": {},
        "outputId": "cb19b143-8571-4972-f7f1-2a0df313fbec"
      },
      "cell_type": "code",
      "source": [
        "d.head()"
      ],
      "execution_count": 0,
      "outputs": [
        {
          "output_type": "execute_result",
          "data": {
            "text/html": [
              "<div>\n",
              "<style scoped>\n",
              "    .dataframe tbody tr th:only-of-type {\n",
              "        vertical-align: middle;\n",
              "    }\n",
              "\n",
              "    .dataframe tbody tr th {\n",
              "        vertical-align: top;\n",
              "    }\n",
              "\n",
              "    .dataframe thead th {\n",
              "        text-align: right;\n",
              "    }\n",
              "</style>\n",
              "<table border=\"1\" class=\"dataframe\">\n",
              "  <thead>\n",
              "    <tr style=\"text-align: right;\">\n",
              "      <th></th>\n",
              "      <th>Date</th>\n",
              "      <th>Unnamed: 1</th>\n",
              "      <th>Berri1</th>\n",
              "      <th>Maisonneuve_1</th>\n",
              "      <th>Maisonneuve_2</th>\n",
              "      <th>Brébeuf</th>\n",
              "    </tr>\n",
              "  </thead>\n",
              "  <tbody>\n",
              "    <tr>\n",
              "      <th>0</th>\n",
              "      <td>01/01/2009</td>\n",
              "      <td>00:00</td>\n",
              "      <td>29</td>\n",
              "      <td>20</td>\n",
              "      <td>35</td>\n",
              "      <td>NaN</td>\n",
              "    </tr>\n",
              "    <tr>\n",
              "      <th>1</th>\n",
              "      <td>02/01/2009</td>\n",
              "      <td>00:00</td>\n",
              "      <td>19</td>\n",
              "      <td>3</td>\n",
              "      <td>22</td>\n",
              "      <td>NaN</td>\n",
              "    </tr>\n",
              "    <tr>\n",
              "      <th>2</th>\n",
              "      <td>03/01/2009</td>\n",
              "      <td>00:00</td>\n",
              "      <td>24</td>\n",
              "      <td>12</td>\n",
              "      <td>22</td>\n",
              "      <td>NaN</td>\n",
              "    </tr>\n",
              "    <tr>\n",
              "      <th>3</th>\n",
              "      <td>04/01/2009</td>\n",
              "      <td>00:00</td>\n",
              "      <td>24</td>\n",
              "      <td>8</td>\n",
              "      <td>15</td>\n",
              "      <td>NaN</td>\n",
              "    </tr>\n",
              "    <tr>\n",
              "      <th>4</th>\n",
              "      <td>05/01/2009</td>\n",
              "      <td>00:00</td>\n",
              "      <td>120</td>\n",
              "      <td>111</td>\n",
              "      <td>141</td>\n",
              "      <td>NaN</td>\n",
              "    </tr>\n",
              "  </tbody>\n",
              "</table>\n",
              "</div>"
            ],
            "text/plain": [
              "         Date Unnamed: 1  Berri1  Maisonneuve_1  Maisonneuve_2  Brébeuf\n",
              "0  01/01/2009      00:00      29             20             35      NaN\n",
              "1  02/01/2009      00:00      19              3             22      NaN\n",
              "2  03/01/2009      00:00      24             12             22      NaN\n",
              "3  04/01/2009      00:00      24              8             15      NaN\n",
              "4  05/01/2009      00:00     120            111            141      NaN"
            ]
          },
          "metadata": {
            "tags": []
          },
          "execution_count": 3
        }
      ]
    },
    {
      "metadata": {
        "id": "5iAGrO4LbCup",
        "colab_type": "code",
        "colab": {
          "base_uri": "https://localhost:8080/",
          "height": 69
        },
        "outputId": "1a47833b-bb23-4f74-88b3-84f88a266152"
      },
      "cell_type": "code",
      "source": [
        "d.columns, d.shape"
      ],
      "execution_count": 5,
      "outputs": [
        {
          "output_type": "execute_result",
          "data": {
            "text/plain": [
              "(Index([u'Date', u'Unnamed: 1', u'Berri1', u'Maisonneuve_1', u'Maisonneuve_2',\n",
              "        u'Brébeuf'],\n",
              "       dtype='object'), (365, 6))"
            ]
          },
          "metadata": {
            "tags": []
          },
          "execution_count": 5
        }
      ]
    },
    {
      "metadata": {
        "id": "y7IbInC8bCux",
        "colab_type": "code",
        "colab": {
          "base_uri": "https://localhost:8080/",
          "height": 300
        },
        "outputId": "c27a949b-3a48-4830-d99a-d2fa5a698dbd"
      },
      "cell_type": "code",
      "source": [
        "d.describe()"
      ],
      "execution_count": 6,
      "outputs": [
        {
          "output_type": "execute_result",
          "data": {
            "text/html": [
              "<div>\n",
              "<style scoped>\n",
              "    .dataframe tbody tr th:only-of-type {\n",
              "        vertical-align: middle;\n",
              "    }\n",
              "\n",
              "    .dataframe tbody tr th {\n",
              "        vertical-align: top;\n",
              "    }\n",
              "\n",
              "    .dataframe thead th {\n",
              "        text-align: right;\n",
              "    }\n",
              "</style>\n",
              "<table border=\"1\" class=\"dataframe\">\n",
              "  <thead>\n",
              "    <tr style=\"text-align: right;\">\n",
              "      <th></th>\n",
              "      <th>Berri1</th>\n",
              "      <th>Maisonneuve_1</th>\n",
              "      <th>Maisonneuve_2</th>\n",
              "      <th>Brébeuf</th>\n",
              "    </tr>\n",
              "  </thead>\n",
              "  <tbody>\n",
              "    <tr>\n",
              "      <th>count</th>\n",
              "      <td>365.000000</td>\n",
              "      <td>365.000000</td>\n",
              "      <td>365.000000</td>\n",
              "      <td>178.000000</td>\n",
              "    </tr>\n",
              "    <tr>\n",
              "      <th>mean</th>\n",
              "      <td>2032.200000</td>\n",
              "      <td>1060.252055</td>\n",
              "      <td>2093.169863</td>\n",
              "      <td>2576.359551</td>\n",
              "    </tr>\n",
              "    <tr>\n",
              "      <th>std</th>\n",
              "      <td>1878.879799</td>\n",
              "      <td>1079.533086</td>\n",
              "      <td>1854.368523</td>\n",
              "      <td>2484.004743</td>\n",
              "    </tr>\n",
              "    <tr>\n",
              "      <th>min</th>\n",
              "      <td>0.000000</td>\n",
              "      <td>0.000000</td>\n",
              "      <td>0.000000</td>\n",
              "      <td>0.000000</td>\n",
              "    </tr>\n",
              "    <tr>\n",
              "      <th>25%</th>\n",
              "      <td>194.000000</td>\n",
              "      <td>90.000000</td>\n",
              "      <td>228.000000</td>\n",
              "      <td>0.000000</td>\n",
              "    </tr>\n",
              "    <tr>\n",
              "      <th>50%</th>\n",
              "      <td>1726.000000</td>\n",
              "      <td>678.000000</td>\n",
              "      <td>1686.000000</td>\n",
              "      <td>1443.500000</td>\n",
              "    </tr>\n",
              "    <tr>\n",
              "      <th>75%</th>\n",
              "      <td>3540.000000</td>\n",
              "      <td>1882.000000</td>\n",
              "      <td>3520.000000</td>\n",
              "      <td>4638.000000</td>\n",
              "    </tr>\n",
              "    <tr>\n",
              "      <th>max</th>\n",
              "      <td>6626.000000</td>\n",
              "      <td>4242.000000</td>\n",
              "      <td>6587.000000</td>\n",
              "      <td>7575.000000</td>\n",
              "    </tr>\n",
              "  </tbody>\n",
              "</table>\n",
              "</div>"
            ],
            "text/plain": [
              "            Berri1  Maisonneuve_1  Maisonneuve_2      Brébeuf\n",
              "count   365.000000     365.000000     365.000000   178.000000\n",
              "mean   2032.200000    1060.252055    2093.169863  2576.359551\n",
              "std    1878.879799    1079.533086    1854.368523  2484.004743\n",
              "min       0.000000       0.000000       0.000000     0.000000\n",
              "25%     194.000000      90.000000     228.000000     0.000000\n",
              "50%    1726.000000     678.000000    1686.000000  1443.500000\n",
              "75%    3540.000000    1882.000000    3520.000000  4638.000000\n",
              "max    6626.000000    4242.000000    6587.000000  7575.000000"
            ]
          },
          "metadata": {
            "tags": []
          },
          "execution_count": 6
        }
      ]
    },
    {
      "metadata": {
        "id": "DgN1NEPDbCu5",
        "colab_type": "code",
        "colab": {
          "base_uri": "https://localhost:8080/",
          "height": 121
        },
        "outputId": "5028f49a-aeba-4cd3-e2e4-c4d9728ca552"
      },
      "cell_type": "code",
      "source": [
        "d[\"Berri1\"].head()"
      ],
      "execution_count": 7,
      "outputs": [
        {
          "output_type": "execute_result",
          "data": {
            "text/plain": [
              "0     29\n",
              "1     19\n",
              "2     24\n",
              "3     24\n",
              "4    120\n",
              "Name: Berri1, dtype: int64"
            ]
          },
          "metadata": {
            "tags": []
          },
          "execution_count": 7
        }
      ]
    },
    {
      "metadata": {
        "id": "ylSqkU8NbCvF",
        "colab_type": "code",
        "colab": {
          "base_uri": "https://localhost:8080/",
          "height": 34
        },
        "outputId": "c1f6aaa5-b1a6-440a-fbb0-009df41fc9da"
      },
      "cell_type": "code",
      "source": [
        "type(d), type(d[\"Berri1\"])"
      ],
      "execution_count": 8,
      "outputs": [
        {
          "output_type": "execute_result",
          "data": {
            "text/plain": [
              "(pandas.core.frame.DataFrame, pandas.core.series.Series)"
            ]
          },
          "metadata": {
            "tags": []
          },
          "execution_count": 8
        }
      ]
    },
    {
      "metadata": {
        "id": "E-X9ZHoHbCvT",
        "colab_type": "code",
        "colab": {
          "base_uri": "https://localhost:8080/",
          "height": 34
        },
        "outputId": "bb52f269-0a73-4a01-cf3a-5c7b0ec17f59"
      },
      "cell_type": "code",
      "source": [
        "d[\"Unnamed: 1\"].unique()   "
      ],
      "execution_count": 9,
      "outputs": [
        {
          "output_type": "execute_result",
          "data": {
            "text/plain": [
              "array(['00:00'], dtype=object)"
            ]
          },
          "metadata": {
            "tags": []
          },
          "execution_count": 9
        }
      ]
    },
    {
      "metadata": {
        "id": "wAGIcC1EbCvc",
        "colab_type": "code",
        "colab": {
          "base_uri": "https://localhost:8080/",
          "height": 538
        },
        "outputId": "432c400e-99a5-4d86-f4c9-af0224848e17"
      },
      "cell_type": "code",
      "source": [
        "d[\"Berri1\"].unique()   "
      ],
      "execution_count": 10,
      "outputs": [
        {
          "output_type": "execute_result",
          "data": {
            "text/plain": [
              "array([  29,   19,   24,  120,  261,   60,   35,   81,  318,  105,  168,\n",
              "        145,  131,   93,   25,   52,  136,  147,  109,  172,  148,   15,\n",
              "        209,   92,  110,   14,  158,  179,  122,   95,  185,   82,  190,\n",
              "        228,  306,  188,   98,  139,  258,  304,  326,  134,  125,   96,\n",
              "         65,  123,  129,  154,  239,  198,   32,   67,  157,  164,  300,\n",
              "        176,  195,  310,    7,  366,  234,  132,  203,  298,  541,  525,\n",
              "        871,  592,  455,  446,  441,  266,  189,  343,  292,  355,  245,\n",
              "          0,  445, 1286, 1178, 2131, 2709,  752, 1886, 2069, 3132, 3668,\n",
              "       1368, 4051, 2286, 3519, 3520, 1925, 2125, 2662, 4403, 4338, 2757,\n",
              "        970, 2767, 1493,  728, 3982, 4742, 5278, 2344, 4094,  784, 1048,\n",
              "       2442, 3686, 3042, 5728, 3815, 3540, 4775, 4434, 4363, 2075, 2338,\n",
              "       1387, 2063, 2031, 3274, 4325, 5430, 6028, 3876, 2742, 4973, 1125,\n",
              "       3460, 4449, 3576, 4027, 4313, 3182, 5668, 6320, 2397, 2857, 2590,\n",
              "       3234, 5138, 5799, 4911, 4333, 3680, 1536, 3064, 1004, 4709, 4471,\n",
              "       4432, 2997, 2544, 5121, 3862, 3036, 3744, 6626, 6274, 1876, 4393,\n",
              "       3471, 3537, 6100, 3489, 4859, 2991, 3588, 5607, 5754, 3440, 5124,\n",
              "       4054, 4372, 1801, 4088, 5891, 3754, 5267, 3146,   63,   77, 5904,\n",
              "       4417, 5611, 4197, 4265, 4589, 2775, 2999, 3504, 5538, 5386, 3916,\n",
              "       3307, 4382, 5327, 3796, 2832, 3492, 2888, 4120, 5450, 4722, 4707,\n",
              "       4439, 2277, 4572, 5298, 5451, 5372, 4566, 3533, 3888, 3683, 5452,\n",
              "       5575, 5496, 4864, 3985, 2695, 4196, 5169, 4891, 4915, 2435, 2674,\n",
              "       2855, 4787, 2620, 2878, 4820, 3774, 2603,  725, 1941, 2272, 3003,\n",
              "       2643, 2865,  993, 1336, 2935, 3852, 2115, 3336, 1302, 1407, 1090,\n",
              "       1171, 1671, 2456, 2383, 1130, 1241, 2570, 2605, 2904, 1322, 1792,\n",
              "        542, 1124, 2119, 2072, 1996, 2130, 1835,  473, 1141, 2293, 1655,\n",
              "       1974, 1767, 1735,  872, 1541, 2540, 2526, 2366, 2224, 2007,  493,\n",
              "        852, 1881, 2052, 1921, 1935, 1065, 1173,  743, 1579, 1574, 1726,\n",
              "       1027,  810,  671,  747, 1092, 1377,  606, 1108,  594,  501,  669,\n",
              "        570,  219,  194,  106,  130,  271,  308,  296,  214,  133,  135,\n",
              "        207,   74,   34,   40,   66,   61,   89,   76,   53])"
            ]
          },
          "metadata": {
            "tags": []
          },
          "execution_count": 10
        }
      ]
    },
    {
      "metadata": {
        "id": "gU98NRAAbCvi",
        "colab_type": "code",
        "colab": {
          "base_uri": "https://localhost:8080/",
          "height": 34
        },
        "outputId": "c6bb95cd-a7e0-4df6-b5d6-f6d31c295136"
      },
      "cell_type": "code",
      "source": [
        "d[\"Berri1\"].dtype, d[\"Date\"].dtype, d[\"Unnamed: 1\"].dtype"
      ],
      "execution_count": 11,
      "outputs": [
        {
          "output_type": "execute_result",
          "data": {
            "text/plain": [
              "(dtype('int64'), dtype('O'), dtype('O'))"
            ]
          },
          "metadata": {
            "tags": []
          },
          "execution_count": 11
        }
      ]
    },
    {
      "metadata": {
        "id": "3L0S8ZLPbCvq",
        "colab_type": "code",
        "colab": {
          "base_uri": "https://localhost:8080/",
          "height": 34
        },
        "outputId": "4ceff3f9-2b40-4abb-dcdd-8b670b18eabb"
      },
      "cell_type": "code",
      "source": [
        "d.index"
      ],
      "execution_count": 12,
      "outputs": [
        {
          "output_type": "execute_result",
          "data": {
            "text/plain": [
              "RangeIndex(start=0, stop=365, step=1)"
            ]
          },
          "metadata": {
            "tags": []
          },
          "execution_count": 12
        }
      ]
    },
    {
      "metadata": {
        "id": "DI5K4UDWbCvw",
        "colab_type": "code",
        "colab": {
          "base_uri": "https://localhost:8080/",
          "height": 206
        },
        "outputId": "d0b8ea86-ca4b-4df5-ea35-f0e44d9e9444"
      },
      "cell_type": "code",
      "source": [
        "d[[\"Berri1\", \"Maisonneuve_1\"]].head()"
      ],
      "execution_count": 13,
      "outputs": [
        {
          "output_type": "execute_result",
          "data": {
            "text/html": [
              "<div>\n",
              "<style scoped>\n",
              "    .dataframe tbody tr th:only-of-type {\n",
              "        vertical-align: middle;\n",
              "    }\n",
              "\n",
              "    .dataframe tbody tr th {\n",
              "        vertical-align: top;\n",
              "    }\n",
              "\n",
              "    .dataframe thead th {\n",
              "        text-align: right;\n",
              "    }\n",
              "</style>\n",
              "<table border=\"1\" class=\"dataframe\">\n",
              "  <thead>\n",
              "    <tr style=\"text-align: right;\">\n",
              "      <th></th>\n",
              "      <th>Berri1</th>\n",
              "      <th>Maisonneuve_1</th>\n",
              "    </tr>\n",
              "  </thead>\n",
              "  <tbody>\n",
              "    <tr>\n",
              "      <th>0</th>\n",
              "      <td>29</td>\n",
              "      <td>20</td>\n",
              "    </tr>\n",
              "    <tr>\n",
              "      <th>1</th>\n",
              "      <td>19</td>\n",
              "      <td>3</td>\n",
              "    </tr>\n",
              "    <tr>\n",
              "      <th>2</th>\n",
              "      <td>24</td>\n",
              "      <td>12</td>\n",
              "    </tr>\n",
              "    <tr>\n",
              "      <th>3</th>\n",
              "      <td>24</td>\n",
              "      <td>8</td>\n",
              "    </tr>\n",
              "    <tr>\n",
              "      <th>4</th>\n",
              "      <td>120</td>\n",
              "      <td>111</td>\n",
              "    </tr>\n",
              "  </tbody>\n",
              "</table>\n",
              "</div>"
            ],
            "text/plain": [
              "   Berri1  Maisonneuve_1\n",
              "0      29             20\n",
              "1      19              3\n",
              "2      24             12\n",
              "3      24              8\n",
              "4     120            111"
            ]
          },
          "metadata": {
            "tags": []
          },
          "execution_count": 13
        }
      ]
    },
    {
      "metadata": {
        "id": "Xj39dvz-bCv3",
        "colab_type": "text"
      },
      "cell_type": "markdown",
      "source": [
        "## fixing data"
      ]
    },
    {
      "metadata": {
        "id": "6RQu-RqqbCv5",
        "colab_type": "code",
        "colab": {
          "base_uri": "https://localhost:8080/",
          "height": 238
        },
        "outputId": "33d6fce2-adf7-41be-e231-fa58ee6eb0a6"
      },
      "cell_type": "code",
      "source": [
        "d.index = pd.to_datetime(d.Date)\n",
        "del(d[\"Date\"])\n",
        "del(d[\"Unnamed: 1\"])\n",
        "d.head()"
      ],
      "execution_count": 14,
      "outputs": [
        {
          "output_type": "execute_result",
          "data": {
            "text/html": [
              "<div>\n",
              "<style scoped>\n",
              "    .dataframe tbody tr th:only-of-type {\n",
              "        vertical-align: middle;\n",
              "    }\n",
              "\n",
              "    .dataframe tbody tr th {\n",
              "        vertical-align: top;\n",
              "    }\n",
              "\n",
              "    .dataframe thead th {\n",
              "        text-align: right;\n",
              "    }\n",
              "</style>\n",
              "<table border=\"1\" class=\"dataframe\">\n",
              "  <thead>\n",
              "    <tr style=\"text-align: right;\">\n",
              "      <th></th>\n",
              "      <th>Berri1</th>\n",
              "      <th>Maisonneuve_1</th>\n",
              "      <th>Maisonneuve_2</th>\n",
              "      <th>Brébeuf</th>\n",
              "    </tr>\n",
              "    <tr>\n",
              "      <th>Date</th>\n",
              "      <th></th>\n",
              "      <th></th>\n",
              "      <th></th>\n",
              "      <th></th>\n",
              "    </tr>\n",
              "  </thead>\n",
              "  <tbody>\n",
              "    <tr>\n",
              "      <th>2009-01-01</th>\n",
              "      <td>29</td>\n",
              "      <td>20</td>\n",
              "      <td>35</td>\n",
              "      <td>NaN</td>\n",
              "    </tr>\n",
              "    <tr>\n",
              "      <th>2009-02-01</th>\n",
              "      <td>19</td>\n",
              "      <td>3</td>\n",
              "      <td>22</td>\n",
              "      <td>NaN</td>\n",
              "    </tr>\n",
              "    <tr>\n",
              "      <th>2009-03-01</th>\n",
              "      <td>24</td>\n",
              "      <td>12</td>\n",
              "      <td>22</td>\n",
              "      <td>NaN</td>\n",
              "    </tr>\n",
              "    <tr>\n",
              "      <th>2009-04-01</th>\n",
              "      <td>24</td>\n",
              "      <td>8</td>\n",
              "      <td>15</td>\n",
              "      <td>NaN</td>\n",
              "    </tr>\n",
              "    <tr>\n",
              "      <th>2009-05-01</th>\n",
              "      <td>120</td>\n",
              "      <td>111</td>\n",
              "      <td>141</td>\n",
              "      <td>NaN</td>\n",
              "    </tr>\n",
              "  </tbody>\n",
              "</table>\n",
              "</div>"
            ],
            "text/plain": [
              "            Berri1  Maisonneuve_1  Maisonneuve_2  Brébeuf\n",
              "Date                                                     \n",
              "2009-01-01      29             20             35      NaN\n",
              "2009-02-01      19              3             22      NaN\n",
              "2009-03-01      24             12             22      NaN\n",
              "2009-04-01      24              8             15      NaN\n",
              "2009-05-01     120            111            141      NaN"
            ]
          },
          "metadata": {
            "tags": []
          },
          "execution_count": 14
        }
      ]
    },
    {
      "metadata": {
        "id": "UUscJfWPbCv_",
        "colab_type": "code",
        "colab": {
          "base_uri": "https://localhost:8080/",
          "height": 238
        },
        "outputId": "dec321d3-0d52-44e9-ff24-cfc56eb31f26"
      },
      "cell_type": "code",
      "source": [
        "d.columns=[\"Berri\", \"Mneuve1\", \"Mneuve2\", \"Brebeuf\"]\n",
        "d.head()"
      ],
      "execution_count": 15,
      "outputs": [
        {
          "output_type": "execute_result",
          "data": {
            "text/html": [
              "<div>\n",
              "<style scoped>\n",
              "    .dataframe tbody tr th:only-of-type {\n",
              "        vertical-align: middle;\n",
              "    }\n",
              "\n",
              "    .dataframe tbody tr th {\n",
              "        vertical-align: top;\n",
              "    }\n",
              "\n",
              "    .dataframe thead th {\n",
              "        text-align: right;\n",
              "    }\n",
              "</style>\n",
              "<table border=\"1\" class=\"dataframe\">\n",
              "  <thead>\n",
              "    <tr style=\"text-align: right;\">\n",
              "      <th></th>\n",
              "      <th>Berri</th>\n",
              "      <th>Mneuve1</th>\n",
              "      <th>Mneuve2</th>\n",
              "      <th>Brebeuf</th>\n",
              "    </tr>\n",
              "    <tr>\n",
              "      <th>Date</th>\n",
              "      <th></th>\n",
              "      <th></th>\n",
              "      <th></th>\n",
              "      <th></th>\n",
              "    </tr>\n",
              "  </thead>\n",
              "  <tbody>\n",
              "    <tr>\n",
              "      <th>2009-01-01</th>\n",
              "      <td>29</td>\n",
              "      <td>20</td>\n",
              "      <td>35</td>\n",
              "      <td>NaN</td>\n",
              "    </tr>\n",
              "    <tr>\n",
              "      <th>2009-02-01</th>\n",
              "      <td>19</td>\n",
              "      <td>3</td>\n",
              "      <td>22</td>\n",
              "      <td>NaN</td>\n",
              "    </tr>\n",
              "    <tr>\n",
              "      <th>2009-03-01</th>\n",
              "      <td>24</td>\n",
              "      <td>12</td>\n",
              "      <td>22</td>\n",
              "      <td>NaN</td>\n",
              "    </tr>\n",
              "    <tr>\n",
              "      <th>2009-04-01</th>\n",
              "      <td>24</td>\n",
              "      <td>8</td>\n",
              "      <td>15</td>\n",
              "      <td>NaN</td>\n",
              "    </tr>\n",
              "    <tr>\n",
              "      <th>2009-05-01</th>\n",
              "      <td>120</td>\n",
              "      <td>111</td>\n",
              "      <td>141</td>\n",
              "      <td>NaN</td>\n",
              "    </tr>\n",
              "  </tbody>\n",
              "</table>\n",
              "</div>"
            ],
            "text/plain": [
              "            Berri  Mneuve1  Mneuve2  Brebeuf\n",
              "Date                                        \n",
              "2009-01-01     29       20       35      NaN\n",
              "2009-02-01     19        3       22      NaN\n",
              "2009-03-01     24       12       22      NaN\n",
              "2009-04-01     24        8       15      NaN\n",
              "2009-05-01    120      111      141      NaN"
            ]
          },
          "metadata": {
            "tags": []
          },
          "execution_count": 15
        }
      ]
    },
    {
      "metadata": {
        "id": "FQZSvt95bCwM",
        "colab_type": "code",
        "colab": {
          "base_uri": "https://localhost:8080/",
          "height": 86
        },
        "outputId": "547f4e30-24cb-49d8-9175-2126dcf797c9"
      },
      "cell_type": "code",
      "source": [
        "for col in d.columns:\n",
        "    print col, np.sum(pd.isnull(d[col]))"
      ],
      "execution_count": 16,
      "outputs": [
        {
          "output_type": "stream",
          "text": [
            "Berri 0\n",
            "Mneuve1 0\n",
            "Mneuve2 0\n",
            "Brebeuf 187\n"
          ],
          "name": "stdout"
        }
      ]
    },
    {
      "metadata": {
        "id": "DFoqJO32bCwZ",
        "colab_type": "code",
        "colab": {}
      },
      "cell_type": "code",
      "source": [
        "d.Brebeuf.fillna(d.Brebeuf.mean(), inplace=True)"
      ],
      "execution_count": 0,
      "outputs": []
    },
    {
      "metadata": {
        "id": "dtQQqOM9bCwc",
        "colab_type": "code",
        "colab": {
          "base_uri": "https://localhost:8080/",
          "height": 238
        },
        "outputId": "74e6d2d8-6c92-46e4-9e99-ec828f0dc5cd"
      },
      "cell_type": "code",
      "source": [
        "d.head()"
      ],
      "execution_count": 18,
      "outputs": [
        {
          "output_type": "execute_result",
          "data": {
            "text/html": [
              "<div>\n",
              "<style scoped>\n",
              "    .dataframe tbody tr th:only-of-type {\n",
              "        vertical-align: middle;\n",
              "    }\n",
              "\n",
              "    .dataframe tbody tr th {\n",
              "        vertical-align: top;\n",
              "    }\n",
              "\n",
              "    .dataframe thead th {\n",
              "        text-align: right;\n",
              "    }\n",
              "</style>\n",
              "<table border=\"1\" class=\"dataframe\">\n",
              "  <thead>\n",
              "    <tr style=\"text-align: right;\">\n",
              "      <th></th>\n",
              "      <th>Berri</th>\n",
              "      <th>Mneuve1</th>\n",
              "      <th>Mneuve2</th>\n",
              "      <th>Brebeuf</th>\n",
              "    </tr>\n",
              "    <tr>\n",
              "      <th>Date</th>\n",
              "      <th></th>\n",
              "      <th></th>\n",
              "      <th></th>\n",
              "      <th></th>\n",
              "    </tr>\n",
              "  </thead>\n",
              "  <tbody>\n",
              "    <tr>\n",
              "      <th>2009-01-01</th>\n",
              "      <td>29</td>\n",
              "      <td>20</td>\n",
              "      <td>35</td>\n",
              "      <td>2576.359551</td>\n",
              "    </tr>\n",
              "    <tr>\n",
              "      <th>2009-02-01</th>\n",
              "      <td>19</td>\n",
              "      <td>3</td>\n",
              "      <td>22</td>\n",
              "      <td>2576.359551</td>\n",
              "    </tr>\n",
              "    <tr>\n",
              "      <th>2009-03-01</th>\n",
              "      <td>24</td>\n",
              "      <td>12</td>\n",
              "      <td>22</td>\n",
              "      <td>2576.359551</td>\n",
              "    </tr>\n",
              "    <tr>\n",
              "      <th>2009-04-01</th>\n",
              "      <td>24</td>\n",
              "      <td>8</td>\n",
              "      <td>15</td>\n",
              "      <td>2576.359551</td>\n",
              "    </tr>\n",
              "    <tr>\n",
              "      <th>2009-05-01</th>\n",
              "      <td>120</td>\n",
              "      <td>111</td>\n",
              "      <td>141</td>\n",
              "      <td>2576.359551</td>\n",
              "    </tr>\n",
              "  </tbody>\n",
              "</table>\n",
              "</div>"
            ],
            "text/plain": [
              "            Berri  Mneuve1  Mneuve2      Brebeuf\n",
              "Date                                            \n",
              "2009-01-01     29       20       35  2576.359551\n",
              "2009-02-01     19        3       22  2576.359551\n",
              "2009-03-01     24       12       22  2576.359551\n",
              "2009-04-01     24        8       15  2576.359551\n",
              "2009-05-01    120      111      141  2576.359551"
            ]
          },
          "metadata": {
            "tags": []
          },
          "execution_count": 18
        }
      ]
    },
    {
      "metadata": {
        "id": "t81r5KxabCwk",
        "colab_type": "code",
        "colab": {
          "base_uri": "https://localhost:8080/",
          "height": 238
        },
        "outputId": "4c5fde92-b3b5-4b7a-dbea-3ba57571f8f7"
      },
      "cell_type": "code",
      "source": [
        "d.sort_index(inplace=True)\n",
        "d.head()"
      ],
      "execution_count": 19,
      "outputs": [
        {
          "output_type": "execute_result",
          "data": {
            "text/html": [
              "<div>\n",
              "<style scoped>\n",
              "    .dataframe tbody tr th:only-of-type {\n",
              "        vertical-align: middle;\n",
              "    }\n",
              "\n",
              "    .dataframe tbody tr th {\n",
              "        vertical-align: top;\n",
              "    }\n",
              "\n",
              "    .dataframe thead th {\n",
              "        text-align: right;\n",
              "    }\n",
              "</style>\n",
              "<table border=\"1\" class=\"dataframe\">\n",
              "  <thead>\n",
              "    <tr style=\"text-align: right;\">\n",
              "      <th></th>\n",
              "      <th>Berri</th>\n",
              "      <th>Mneuve1</th>\n",
              "      <th>Mneuve2</th>\n",
              "      <th>Brebeuf</th>\n",
              "    </tr>\n",
              "    <tr>\n",
              "      <th>Date</th>\n",
              "      <th></th>\n",
              "      <th></th>\n",
              "      <th></th>\n",
              "      <th></th>\n",
              "    </tr>\n",
              "  </thead>\n",
              "  <tbody>\n",
              "    <tr>\n",
              "      <th>2009-01-01</th>\n",
              "      <td>29</td>\n",
              "      <td>20</td>\n",
              "      <td>35</td>\n",
              "      <td>2576.359551</td>\n",
              "    </tr>\n",
              "    <tr>\n",
              "      <th>2009-01-02</th>\n",
              "      <td>14</td>\n",
              "      <td>2</td>\n",
              "      <td>2</td>\n",
              "      <td>2576.359551</td>\n",
              "    </tr>\n",
              "    <tr>\n",
              "      <th>2009-01-03</th>\n",
              "      <td>67</td>\n",
              "      <td>30</td>\n",
              "      <td>80</td>\n",
              "      <td>2576.359551</td>\n",
              "    </tr>\n",
              "    <tr>\n",
              "      <th>2009-01-04</th>\n",
              "      <td>0</td>\n",
              "      <td>0</td>\n",
              "      <td>0</td>\n",
              "      <td>2576.359551</td>\n",
              "    </tr>\n",
              "    <tr>\n",
              "      <th>2009-01-05</th>\n",
              "      <td>1925</td>\n",
              "      <td>1256</td>\n",
              "      <td>1501</td>\n",
              "      <td>2576.359551</td>\n",
              "    </tr>\n",
              "  </tbody>\n",
              "</table>\n",
              "</div>"
            ],
            "text/plain": [
              "            Berri  Mneuve1  Mneuve2      Brebeuf\n",
              "Date                                            \n",
              "2009-01-01     29       20       35  2576.359551\n",
              "2009-01-02     14        2        2  2576.359551\n",
              "2009-01-03     67       30       80  2576.359551\n",
              "2009-01-04      0        0        0  2576.359551\n",
              "2009-01-05   1925     1256     1501  2576.359551"
            ]
          },
          "metadata": {
            "tags": []
          },
          "execution_count": 19
        }
      ]
    },
    {
      "metadata": {
        "id": "9u_PE8XGbCwq",
        "colab_type": "text"
      },
      "cell_type": "markdown",
      "source": [
        "## filtering"
      ]
    },
    {
      "metadata": {
        "id": "a-V4DM0vbCws",
        "colab_type": "code",
        "colab": {},
        "outputId": "cd5a45fa-24b7-4553-c547-266e3e39e6bb"
      },
      "cell_type": "code",
      "source": [
        "d[d.Berri>6000]"
      ],
      "execution_count": 0,
      "outputs": [
        {
          "output_type": "execute_result",
          "data": {
            "text/html": [
              "<div>\n",
              "<style scoped>\n",
              "    .dataframe tbody tr th:only-of-type {\n",
              "        vertical-align: middle;\n",
              "    }\n",
              "\n",
              "    .dataframe tbody tr th {\n",
              "        vertical-align: top;\n",
              "    }\n",
              "\n",
              "    .dataframe thead th {\n",
              "        text-align: right;\n",
              "    }\n",
              "</style>\n",
              "<table border=\"1\" class=\"dataframe\">\n",
              "  <thead>\n",
              "    <tr style=\"text-align: right;\">\n",
              "      <th></th>\n",
              "      <th>Berri</th>\n",
              "      <th>Mneuve1</th>\n",
              "      <th>Mneuve2</th>\n",
              "      <th>Brebeuf</th>\n",
              "    </tr>\n",
              "    <tr>\n",
              "      <th>Date</th>\n",
              "      <th></th>\n",
              "      <th></th>\n",
              "      <th></th>\n",
              "      <th></th>\n",
              "    </tr>\n",
              "  </thead>\n",
              "  <tbody>\n",
              "    <tr>\n",
              "      <th>2009-05-06</th>\n",
              "      <td>6028</td>\n",
              "      <td>4120</td>\n",
              "      <td>4223</td>\n",
              "      <td>2576.359551</td>\n",
              "    </tr>\n",
              "    <tr>\n",
              "      <th>2009-06-17</th>\n",
              "      <td>6320</td>\n",
              "      <td>3388</td>\n",
              "      <td>6047</td>\n",
              "      <td>2576.359551</td>\n",
              "    </tr>\n",
              "    <tr>\n",
              "      <th>2009-07-15</th>\n",
              "      <td>6100</td>\n",
              "      <td>3767</td>\n",
              "      <td>5536</td>\n",
              "      <td>6939.000000</td>\n",
              "    </tr>\n",
              "    <tr>\n",
              "      <th>2009-09-07</th>\n",
              "      <td>6626</td>\n",
              "      <td>4227</td>\n",
              "      <td>5751</td>\n",
              "      <td>7575.000000</td>\n",
              "    </tr>\n",
              "    <tr>\n",
              "      <th>2009-10-07</th>\n",
              "      <td>6274</td>\n",
              "      <td>4242</td>\n",
              "      <td>5435</td>\n",
              "      <td>7268.000000</td>\n",
              "    </tr>\n",
              "  </tbody>\n",
              "</table>\n",
              "</div>"
            ],
            "text/plain": [
              "            Berri  Mneuve1  Mneuve2      Brebeuf\n",
              "Date                                            \n",
              "2009-05-06   6028     4120     4223  2576.359551\n",
              "2009-06-17   6320     3388     6047  2576.359551\n",
              "2009-07-15   6100     3767     5536  6939.000000\n",
              "2009-09-07   6626     4227     5751  7575.000000\n",
              "2009-10-07   6274     4242     5435  7268.000000"
            ]
          },
          "metadata": {
            "tags": []
          },
          "execution_count": 19
        }
      ]
    },
    {
      "metadata": {
        "id": "aVMA2WN0bCww",
        "colab_type": "code",
        "colab": {},
        "outputId": "67425872-7bcc-4e52-9afe-025c7d71a98e"
      },
      "cell_type": "code",
      "source": [
        "d[(d.Berri>6000) & (d.Brebeuf<7000)]"
      ],
      "execution_count": 0,
      "outputs": [
        {
          "output_type": "execute_result",
          "data": {
            "text/html": [
              "<div>\n",
              "<style scoped>\n",
              "    .dataframe tbody tr th:only-of-type {\n",
              "        vertical-align: middle;\n",
              "    }\n",
              "\n",
              "    .dataframe tbody tr th {\n",
              "        vertical-align: top;\n",
              "    }\n",
              "\n",
              "    .dataframe thead th {\n",
              "        text-align: right;\n",
              "    }\n",
              "</style>\n",
              "<table border=\"1\" class=\"dataframe\">\n",
              "  <thead>\n",
              "    <tr style=\"text-align: right;\">\n",
              "      <th></th>\n",
              "      <th>Berri</th>\n",
              "      <th>Mneuve1</th>\n",
              "      <th>Mneuve2</th>\n",
              "      <th>Brebeuf</th>\n",
              "    </tr>\n",
              "    <tr>\n",
              "      <th>Date</th>\n",
              "      <th></th>\n",
              "      <th></th>\n",
              "      <th></th>\n",
              "      <th></th>\n",
              "    </tr>\n",
              "  </thead>\n",
              "  <tbody>\n",
              "    <tr>\n",
              "      <th>2009-05-06</th>\n",
              "      <td>6028</td>\n",
              "      <td>4120</td>\n",
              "      <td>4223</td>\n",
              "      <td>2576.359551</td>\n",
              "    </tr>\n",
              "    <tr>\n",
              "      <th>2009-06-17</th>\n",
              "      <td>6320</td>\n",
              "      <td>3388</td>\n",
              "      <td>6047</td>\n",
              "      <td>2576.359551</td>\n",
              "    </tr>\n",
              "    <tr>\n",
              "      <th>2009-07-15</th>\n",
              "      <td>6100</td>\n",
              "      <td>3767</td>\n",
              "      <td>5536</td>\n",
              "      <td>6939.000000</td>\n",
              "    </tr>\n",
              "  </tbody>\n",
              "</table>\n",
              "</div>"
            ],
            "text/plain": [
              "            Berri  Mneuve1  Mneuve2      Brebeuf\n",
              "Date                                            \n",
              "2009-05-06   6028     4120     4223  2576.359551\n",
              "2009-06-17   6320     3388     6047  2576.359551\n",
              "2009-07-15   6100     3767     5536  6939.000000"
            ]
          },
          "metadata": {
            "tags": []
          },
          "execution_count": 20
        }
      ]
    },
    {
      "metadata": {
        "id": "1xZz5VsBbCw0",
        "colab_type": "text"
      },
      "cell_type": "markdown",
      "source": [
        "## indexing and locating"
      ]
    },
    {
      "metadata": {
        "id": "LpKdPX8lbCw1",
        "colab_type": "code",
        "colab": {},
        "outputId": "991419eb-57ee-4752-e17d-5de226a1410c"
      },
      "cell_type": "code",
      "source": [
        "d[d.Berri>5500].sort_index(axis=0)"
      ],
      "execution_count": 0,
      "outputs": [
        {
          "output_type": "execute_result",
          "data": {
            "text/html": [
              "<div>\n",
              "<style scoped>\n",
              "    .dataframe tbody tr th:only-of-type {\n",
              "        vertical-align: middle;\n",
              "    }\n",
              "\n",
              "    .dataframe tbody tr th {\n",
              "        vertical-align: top;\n",
              "    }\n",
              "\n",
              "    .dataframe thead th {\n",
              "        text-align: right;\n",
              "    }\n",
              "</style>\n",
              "<table border=\"1\" class=\"dataframe\">\n",
              "  <thead>\n",
              "    <tr style=\"text-align: right;\">\n",
              "      <th></th>\n",
              "      <th>Berri</th>\n",
              "      <th>Mneuve1</th>\n",
              "      <th>Mneuve2</th>\n",
              "      <th>Brebeuf</th>\n",
              "    </tr>\n",
              "    <tr>\n",
              "      <th>Date</th>\n",
              "      <th></th>\n",
              "      <th></th>\n",
              "      <th></th>\n",
              "      <th></th>\n",
              "    </tr>\n",
              "  </thead>\n",
              "  <tbody>\n",
              "    <tr>\n",
              "      <th>2009-03-08</th>\n",
              "      <td>5904</td>\n",
              "      <td>3102</td>\n",
              "      <td>4853</td>\n",
              "      <td>7194.000000</td>\n",
              "    </tr>\n",
              "    <tr>\n",
              "      <th>2009-05-06</th>\n",
              "      <td>6028</td>\n",
              "      <td>4120</td>\n",
              "      <td>4223</td>\n",
              "      <td>2576.359551</td>\n",
              "    </tr>\n",
              "    <tr>\n",
              "      <th>2009-05-08</th>\n",
              "      <td>5611</td>\n",
              "      <td>2646</td>\n",
              "      <td>5201</td>\n",
              "      <td>7121.000000</td>\n",
              "    </tr>\n",
              "    <tr>\n",
              "      <th>2009-05-21</th>\n",
              "      <td>5728</td>\n",
              "      <td>3693</td>\n",
              "      <td>5397</td>\n",
              "      <td>2576.359551</td>\n",
              "    </tr>\n",
              "    <tr>\n",
              "      <th>2009-06-16</th>\n",
              "      <td>5668</td>\n",
              "      <td>3499</td>\n",
              "      <td>5609</td>\n",
              "      <td>2576.359551</td>\n",
              "    </tr>\n",
              "    <tr>\n",
              "      <th>2009-06-17</th>\n",
              "      <td>6320</td>\n",
              "      <td>3388</td>\n",
              "      <td>6047</td>\n",
              "      <td>2576.359551</td>\n",
              "    </tr>\n",
              "    <tr>\n",
              "      <th>2009-06-23</th>\n",
              "      <td>5799</td>\n",
              "      <td>3114</td>\n",
              "      <td>5386</td>\n",
              "      <td>2576.359551</td>\n",
              "    </tr>\n",
              "    <tr>\n",
              "      <th>2009-07-15</th>\n",
              "      <td>6100</td>\n",
              "      <td>3767</td>\n",
              "      <td>5536</td>\n",
              "      <td>6939.000000</td>\n",
              "    </tr>\n",
              "    <tr>\n",
              "      <th>2009-07-20</th>\n",
              "      <td>5607</td>\n",
              "      <td>3825</td>\n",
              "      <td>5092</td>\n",
              "      <td>7064.000000</td>\n",
              "    </tr>\n",
              "    <tr>\n",
              "      <th>2009-07-21</th>\n",
              "      <td>5754</td>\n",
              "      <td>3745</td>\n",
              "      <td>5357</td>\n",
              "      <td>6996.000000</td>\n",
              "    </tr>\n",
              "    <tr>\n",
              "      <th>2009-07-28</th>\n",
              "      <td>5891</td>\n",
              "      <td>3292</td>\n",
              "      <td>5437</td>\n",
              "      <td>7219.000000</td>\n",
              "    </tr>\n",
              "    <tr>\n",
              "      <th>2009-09-07</th>\n",
              "      <td>6626</td>\n",
              "      <td>4227</td>\n",
              "      <td>5751</td>\n",
              "      <td>7575.000000</td>\n",
              "    </tr>\n",
              "    <tr>\n",
              "      <th>2009-09-09</th>\n",
              "      <td>5575</td>\n",
              "      <td>2727</td>\n",
              "      <td>6535</td>\n",
              "      <td>6686.000000</td>\n",
              "    </tr>\n",
              "    <tr>\n",
              "      <th>2009-10-07</th>\n",
              "      <td>6274</td>\n",
              "      <td>4242</td>\n",
              "      <td>5435</td>\n",
              "      <td>7268.000000</td>\n",
              "    </tr>\n",
              "    <tr>\n",
              "      <th>2009-12-08</th>\n",
              "      <td>5538</td>\n",
              "      <td>2368</td>\n",
              "      <td>5107</td>\n",
              "      <td>7127.000000</td>\n",
              "    </tr>\n",
              "  </tbody>\n",
              "</table>\n",
              "</div>"
            ],
            "text/plain": [
              "            Berri  Mneuve1  Mneuve2      Brebeuf\n",
              "Date                                            \n",
              "2009-03-08   5904     3102     4853  7194.000000\n",
              "2009-05-06   6028     4120     4223  2576.359551\n",
              "2009-05-08   5611     2646     5201  7121.000000\n",
              "2009-05-21   5728     3693     5397  2576.359551\n",
              "2009-06-16   5668     3499     5609  2576.359551\n",
              "2009-06-17   6320     3388     6047  2576.359551\n",
              "2009-06-23   5799     3114     5386  2576.359551\n",
              "2009-07-15   6100     3767     5536  6939.000000\n",
              "2009-07-20   5607     3825     5092  7064.000000\n",
              "2009-07-21   5754     3745     5357  6996.000000\n",
              "2009-07-28   5891     3292     5437  7219.000000\n",
              "2009-09-07   6626     4227     5751  7575.000000\n",
              "2009-09-09   5575     2727     6535  6686.000000\n",
              "2009-10-07   6274     4242     5435  7268.000000\n",
              "2009-12-08   5538     2368     5107  7127.000000"
            ]
          },
          "metadata": {
            "tags": []
          },
          "execution_count": 21
        }
      ]
    },
    {
      "metadata": {
        "id": "gKZuQSPVbCw-",
        "colab_type": "code",
        "colab": {},
        "outputId": "466c56de-df3e-4ac1-f850-4961222bd5ca"
      },
      "cell_type": "code",
      "source": [
        "d.iloc[100:110]"
      ],
      "execution_count": 0,
      "outputs": [
        {
          "output_type": "execute_result",
          "data": {
            "text/html": [
              "<div>\n",
              "<style scoped>\n",
              "    .dataframe tbody tr th:only-of-type {\n",
              "        vertical-align: middle;\n",
              "    }\n",
              "\n",
              "    .dataframe tbody tr th {\n",
              "        vertical-align: top;\n",
              "    }\n",
              "\n",
              "    .dataframe thead th {\n",
              "        text-align: right;\n",
              "    }\n",
              "</style>\n",
              "<table border=\"1\" class=\"dataframe\">\n",
              "  <thead>\n",
              "    <tr style=\"text-align: right;\">\n",
              "      <th></th>\n",
              "      <th>Berri</th>\n",
              "      <th>Mneuve1</th>\n",
              "      <th>Mneuve2</th>\n",
              "      <th>Brebeuf</th>\n",
              "    </tr>\n",
              "    <tr>\n",
              "      <th>Date</th>\n",
              "      <th></th>\n",
              "      <th></th>\n",
              "      <th></th>\n",
              "      <th></th>\n",
              "    </tr>\n",
              "  </thead>\n",
              "  <tbody>\n",
              "    <tr>\n",
              "      <th>2009-04-11</th>\n",
              "      <td>1974</td>\n",
              "      <td>1113</td>\n",
              "      <td>2693</td>\n",
              "      <td>1046.000000</td>\n",
              "    </tr>\n",
              "    <tr>\n",
              "      <th>2009-04-12</th>\n",
              "      <td>1108</td>\n",
              "      <td>595</td>\n",
              "      <td>1472</td>\n",
              "      <td>0.000000</td>\n",
              "    </tr>\n",
              "    <tr>\n",
              "      <th>2009-04-13</th>\n",
              "      <td>0</td>\n",
              "      <td>0</td>\n",
              "      <td>0</td>\n",
              "      <td>2576.359551</td>\n",
              "    </tr>\n",
              "    <tr>\n",
              "      <th>2009-04-14</th>\n",
              "      <td>0</td>\n",
              "      <td>0</td>\n",
              "      <td>0</td>\n",
              "      <td>2576.359551</td>\n",
              "    </tr>\n",
              "    <tr>\n",
              "      <th>2009-04-15</th>\n",
              "      <td>0</td>\n",
              "      <td>0</td>\n",
              "      <td>0</td>\n",
              "      <td>2576.359551</td>\n",
              "    </tr>\n",
              "    <tr>\n",
              "      <th>2009-04-16</th>\n",
              "      <td>0</td>\n",
              "      <td>0</td>\n",
              "      <td>0</td>\n",
              "      <td>2576.359551</td>\n",
              "    </tr>\n",
              "    <tr>\n",
              "      <th>2009-04-17</th>\n",
              "      <td>1286</td>\n",
              "      <td>820</td>\n",
              "      <td>1436</td>\n",
              "      <td>2576.359551</td>\n",
              "    </tr>\n",
              "    <tr>\n",
              "      <th>2009-04-18</th>\n",
              "      <td>1178</td>\n",
              "      <td>667</td>\n",
              "      <td>826</td>\n",
              "      <td>2576.359551</td>\n",
              "    </tr>\n",
              "    <tr>\n",
              "      <th>2009-04-19</th>\n",
              "      <td>2131</td>\n",
              "      <td>1155</td>\n",
              "      <td>1426</td>\n",
              "      <td>2576.359551</td>\n",
              "    </tr>\n",
              "    <tr>\n",
              "      <th>2009-04-20</th>\n",
              "      <td>2709</td>\n",
              "      <td>1697</td>\n",
              "      <td>2646</td>\n",
              "      <td>2576.359551</td>\n",
              "    </tr>\n",
              "  </tbody>\n",
              "</table>\n",
              "</div>"
            ],
            "text/plain": [
              "            Berri  Mneuve1  Mneuve2      Brebeuf\n",
              "Date                                            \n",
              "2009-04-11   1974     1113     2693  1046.000000\n",
              "2009-04-12   1108      595     1472     0.000000\n",
              "2009-04-13      0        0        0  2576.359551\n",
              "2009-04-14      0        0        0  2576.359551\n",
              "2009-04-15      0        0        0  2576.359551\n",
              "2009-04-16      0        0        0  2576.359551\n",
              "2009-04-17   1286      820     1436  2576.359551\n",
              "2009-04-18   1178      667      826  2576.359551\n",
              "2009-04-19   2131     1155     1426  2576.359551\n",
              "2009-04-20   2709     1697     2646  2576.359551"
            ]
          },
          "metadata": {
            "tags": []
          },
          "execution_count": 22
        }
      ]
    },
    {
      "metadata": {
        "id": "j46kLoItbCxF",
        "colab_type": "code",
        "colab": {},
        "outputId": "d7e60fce-8b85-4247-fd70-e7aa06e36709"
      },
      "cell_type": "code",
      "source": [
        "d.loc[\"2009-10-01\":\"2009-10-10\"]"
      ],
      "execution_count": 0,
      "outputs": [
        {
          "output_type": "execute_result",
          "data": {
            "text/html": [
              "<div>\n",
              "<style scoped>\n",
              "    .dataframe tbody tr th:only-of-type {\n",
              "        vertical-align: middle;\n",
              "    }\n",
              "\n",
              "    .dataframe tbody tr th {\n",
              "        vertical-align: top;\n",
              "    }\n",
              "\n",
              "    .dataframe thead th {\n",
              "        text-align: right;\n",
              "    }\n",
              "</style>\n",
              "<table border=\"1\" class=\"dataframe\">\n",
              "  <thead>\n",
              "    <tr style=\"text-align: right;\">\n",
              "      <th></th>\n",
              "      <th>Berri</th>\n",
              "      <th>Mneuve1</th>\n",
              "      <th>Mneuve2</th>\n",
              "      <th>Brebeuf</th>\n",
              "    </tr>\n",
              "    <tr>\n",
              "      <th>Date</th>\n",
              "      <th></th>\n",
              "      <th></th>\n",
              "      <th></th>\n",
              "      <th></th>\n",
              "    </tr>\n",
              "  </thead>\n",
              "  <tbody>\n",
              "    <tr>\n",
              "      <th>2009-10-01</th>\n",
              "      <td>81</td>\n",
              "      <td>45</td>\n",
              "      <td>79</td>\n",
              "      <td>2576.359551</td>\n",
              "    </tr>\n",
              "    <tr>\n",
              "      <th>2009-10-02</th>\n",
              "      <td>228</td>\n",
              "      <td>101</td>\n",
              "      <td>260</td>\n",
              "      <td>2576.359551</td>\n",
              "    </tr>\n",
              "    <tr>\n",
              "      <th>2009-10-03</th>\n",
              "      <td>366</td>\n",
              "      <td>203</td>\n",
              "      <td>354</td>\n",
              "      <td>2576.359551</td>\n",
              "    </tr>\n",
              "    <tr>\n",
              "      <th>2009-10-04</th>\n",
              "      <td>0</td>\n",
              "      <td>0</td>\n",
              "      <td>0</td>\n",
              "      <td>2576.359551</td>\n",
              "    </tr>\n",
              "    <tr>\n",
              "      <th>2009-10-05</th>\n",
              "      <td>728</td>\n",
              "      <td>362</td>\n",
              "      <td>523</td>\n",
              "      <td>2576.359551</td>\n",
              "    </tr>\n",
              "    <tr>\n",
              "      <th>2009-10-06</th>\n",
              "      <td>3460</td>\n",
              "      <td>2354</td>\n",
              "      <td>3978</td>\n",
              "      <td>2576.359551</td>\n",
              "    </tr>\n",
              "    <tr>\n",
              "      <th>2009-10-07</th>\n",
              "      <td>6274</td>\n",
              "      <td>4242</td>\n",
              "      <td>5435</td>\n",
              "      <td>7268.000000</td>\n",
              "    </tr>\n",
              "    <tr>\n",
              "      <th>2009-10-08</th>\n",
              "      <td>2999</td>\n",
              "      <td>1545</td>\n",
              "      <td>3185</td>\n",
              "      <td>4187.000000</td>\n",
              "    </tr>\n",
              "    <tr>\n",
              "      <th>2009-10-09</th>\n",
              "      <td>5496</td>\n",
              "      <td>2921</td>\n",
              "      <td>6587</td>\n",
              "      <td>6520.000000</td>\n",
              "    </tr>\n",
              "    <tr>\n",
              "      <th>2009-10-10</th>\n",
              "      <td>1407</td>\n",
              "      <td>725</td>\n",
              "      <td>1443</td>\n",
              "      <td>1003.000000</td>\n",
              "    </tr>\n",
              "  </tbody>\n",
              "</table>\n",
              "</div>"
            ],
            "text/plain": [
              "            Berri  Mneuve1  Mneuve2      Brebeuf\n",
              "Date                                            \n",
              "2009-10-01     81       45       79  2576.359551\n",
              "2009-10-02    228      101      260  2576.359551\n",
              "2009-10-03    366      203      354  2576.359551\n",
              "2009-10-04      0        0        0  2576.359551\n",
              "2009-10-05    728      362      523  2576.359551\n",
              "2009-10-06   3460     2354     3978  2576.359551\n",
              "2009-10-07   6274     4242     5435  7268.000000\n",
              "2009-10-08   2999     1545     3185  4187.000000\n",
              "2009-10-09   5496     2921     6587  6520.000000\n",
              "2009-10-10   1407      725     1443  1003.000000"
            ]
          },
          "metadata": {
            "tags": []
          },
          "execution_count": 23
        }
      ]
    },
    {
      "metadata": {
        "id": "XLE0_4uebCxI",
        "colab_type": "code",
        "colab": {},
        "outputId": "a5fea807-d5b6-40ea-eaf6-393d2a66bd9e"
      },
      "cell_type": "code",
      "source": [
        "d.sort_values(by=\"Berri\").head()"
      ],
      "execution_count": 0,
      "outputs": [
        {
          "output_type": "execute_result",
          "data": {
            "text/html": [
              "<div>\n",
              "<style scoped>\n",
              "    .dataframe tbody tr th:only-of-type {\n",
              "        vertical-align: middle;\n",
              "    }\n",
              "\n",
              "    .dataframe tbody tr th {\n",
              "        vertical-align: top;\n",
              "    }\n",
              "\n",
              "    .dataframe thead th {\n",
              "        text-align: right;\n",
              "    }\n",
              "</style>\n",
              "<table border=\"1\" class=\"dataframe\">\n",
              "  <thead>\n",
              "    <tr style=\"text-align: right;\">\n",
              "      <th></th>\n",
              "      <th>Berri</th>\n",
              "      <th>Mneuve1</th>\n",
              "      <th>Mneuve2</th>\n",
              "      <th>Brebeuf</th>\n",
              "    </tr>\n",
              "    <tr>\n",
              "      <th>Date</th>\n",
              "      <th></th>\n",
              "      <th></th>\n",
              "      <th></th>\n",
              "      <th></th>\n",
              "    </tr>\n",
              "  </thead>\n",
              "  <tbody>\n",
              "    <tr>\n",
              "      <th>2009-07-04</th>\n",
              "      <td>0</td>\n",
              "      <td>0</td>\n",
              "      <td>0</td>\n",
              "      <td>2576.359551</td>\n",
              "    </tr>\n",
              "    <tr>\n",
              "      <th>2009-03-30</th>\n",
              "      <td>0</td>\n",
              "      <td>0</td>\n",
              "      <td>0</td>\n",
              "      <td>2576.359551</td>\n",
              "    </tr>\n",
              "    <tr>\n",
              "      <th>2009-04-04</th>\n",
              "      <td>0</td>\n",
              "      <td>0</td>\n",
              "      <td>0</td>\n",
              "      <td>2576.359551</td>\n",
              "    </tr>\n",
              "    <tr>\n",
              "      <th>2009-04-13</th>\n",
              "      <td>0</td>\n",
              "      <td>0</td>\n",
              "      <td>0</td>\n",
              "      <td>2576.359551</td>\n",
              "    </tr>\n",
              "    <tr>\n",
              "      <th>2009-04-14</th>\n",
              "      <td>0</td>\n",
              "      <td>0</td>\n",
              "      <td>0</td>\n",
              "      <td>2576.359551</td>\n",
              "    </tr>\n",
              "  </tbody>\n",
              "</table>\n",
              "</div>"
            ],
            "text/plain": [
              "            Berri  Mneuve1  Mneuve2      Brebeuf\n",
              "Date                                            \n",
              "2009-07-04      0        0        0  2576.359551\n",
              "2009-03-30      0        0        0  2576.359551\n",
              "2009-04-04      0        0        0  2576.359551\n",
              "2009-04-13      0        0        0  2576.359551\n",
              "2009-04-14      0        0        0  2576.359551"
            ]
          },
          "metadata": {
            "tags": []
          },
          "execution_count": 24
        }
      ]
    },
    {
      "metadata": {
        "id": "QfASJIUobCxO",
        "colab_type": "code",
        "colab": {},
        "outputId": "e3259247-9183-4a08-acdb-b2edd684afa6"
      },
      "cell_type": "code",
      "source": [
        "d.sort_values(by=\"Berri\").loc[\"2009-10-01\":\"2009-10-10\"]"
      ],
      "execution_count": 0,
      "outputs": [
        {
          "output_type": "execute_result",
          "data": {
            "text/html": [
              "<div>\n",
              "<style scoped>\n",
              "    .dataframe tbody tr th:only-of-type {\n",
              "        vertical-align: middle;\n",
              "    }\n",
              "\n",
              "    .dataframe tbody tr th {\n",
              "        vertical-align: top;\n",
              "    }\n",
              "\n",
              "    .dataframe thead th {\n",
              "        text-align: right;\n",
              "    }\n",
              "</style>\n",
              "<table border=\"1\" class=\"dataframe\">\n",
              "  <thead>\n",
              "    <tr style=\"text-align: right;\">\n",
              "      <th></th>\n",
              "      <th>Berri</th>\n",
              "      <th>Mneuve1</th>\n",
              "      <th>Mneuve2</th>\n",
              "      <th>Brebeuf</th>\n",
              "    </tr>\n",
              "    <tr>\n",
              "      <th>Date</th>\n",
              "      <th></th>\n",
              "      <th></th>\n",
              "      <th></th>\n",
              "      <th></th>\n",
              "    </tr>\n",
              "  </thead>\n",
              "  <tbody>\n",
              "    <tr>\n",
              "      <th>2009-10-04</th>\n",
              "      <td>0</td>\n",
              "      <td>0</td>\n",
              "      <td>0</td>\n",
              "      <td>2576.359551</td>\n",
              "    </tr>\n",
              "    <tr>\n",
              "      <th>2009-10-01</th>\n",
              "      <td>81</td>\n",
              "      <td>45</td>\n",
              "      <td>79</td>\n",
              "      <td>2576.359551</td>\n",
              "    </tr>\n",
              "    <tr>\n",
              "      <th>2009-10-02</th>\n",
              "      <td>228</td>\n",
              "      <td>101</td>\n",
              "      <td>260</td>\n",
              "      <td>2576.359551</td>\n",
              "    </tr>\n",
              "    <tr>\n",
              "      <th>2009-10-03</th>\n",
              "      <td>366</td>\n",
              "      <td>203</td>\n",
              "      <td>354</td>\n",
              "      <td>2576.359551</td>\n",
              "    </tr>\n",
              "    <tr>\n",
              "      <th>2009-10-05</th>\n",
              "      <td>728</td>\n",
              "      <td>362</td>\n",
              "      <td>523</td>\n",
              "      <td>2576.359551</td>\n",
              "    </tr>\n",
              "    <tr>\n",
              "      <th>2009-10-10</th>\n",
              "      <td>1407</td>\n",
              "      <td>725</td>\n",
              "      <td>1443</td>\n",
              "      <td>1003.000000</td>\n",
              "    </tr>\n",
              "    <tr>\n",
              "      <th>2009-10-08</th>\n",
              "      <td>2999</td>\n",
              "      <td>1545</td>\n",
              "      <td>3185</td>\n",
              "      <td>4187.000000</td>\n",
              "    </tr>\n",
              "    <tr>\n",
              "      <th>2009-10-06</th>\n",
              "      <td>3460</td>\n",
              "      <td>2354</td>\n",
              "      <td>3978</td>\n",
              "      <td>2576.359551</td>\n",
              "    </tr>\n",
              "    <tr>\n",
              "      <th>2009-10-09</th>\n",
              "      <td>5496</td>\n",
              "      <td>2921</td>\n",
              "      <td>6587</td>\n",
              "      <td>6520.000000</td>\n",
              "    </tr>\n",
              "    <tr>\n",
              "      <th>2009-10-07</th>\n",
              "      <td>6274</td>\n",
              "      <td>4242</td>\n",
              "      <td>5435</td>\n",
              "      <td>7268.000000</td>\n",
              "    </tr>\n",
              "  </tbody>\n",
              "</table>\n",
              "</div>"
            ],
            "text/plain": [
              "            Berri  Mneuve1  Mneuve2      Brebeuf\n",
              "Date                                            \n",
              "2009-10-04      0        0        0  2576.359551\n",
              "2009-10-01     81       45       79  2576.359551\n",
              "2009-10-02    228      101      260  2576.359551\n",
              "2009-10-03    366      203      354  2576.359551\n",
              "2009-10-05    728      362      523  2576.359551\n",
              "2009-10-10   1407      725     1443  1003.000000\n",
              "2009-10-08   2999     1545     3185  4187.000000\n",
              "2009-10-06   3460     2354     3978  2576.359551\n",
              "2009-10-09   5496     2921     6587  6520.000000\n",
              "2009-10-07   6274     4242     5435  7268.000000"
            ]
          },
          "metadata": {
            "tags": []
          },
          "execution_count": 25
        }
      ]
    },
    {
      "metadata": {
        "id": "mX47CTYZbCxV",
        "colab_type": "text"
      },
      "cell_type": "markdown",
      "source": [
        "## time series"
      ]
    },
    {
      "metadata": {
        "scrolled": true,
        "id": "sgHDyZlfbCxY",
        "colab_type": "code",
        "colab": {},
        "outputId": "381039fa-b224-49c1-e6d8-9fc89b82b164"
      },
      "cell_type": "code",
      "source": [
        "d.rolling(3).mean().head(10)"
      ],
      "execution_count": 0,
      "outputs": [
        {
          "output_type": "execute_result",
          "data": {
            "text/html": [
              "<div>\n",
              "<style scoped>\n",
              "    .dataframe tbody tr th:only-of-type {\n",
              "        vertical-align: middle;\n",
              "    }\n",
              "\n",
              "    .dataframe tbody tr th {\n",
              "        vertical-align: top;\n",
              "    }\n",
              "\n",
              "    .dataframe thead th {\n",
              "        text-align: right;\n",
              "    }\n",
              "</style>\n",
              "<table border=\"1\" class=\"dataframe\">\n",
              "  <thead>\n",
              "    <tr style=\"text-align: right;\">\n",
              "      <th></th>\n",
              "      <th>Berri</th>\n",
              "      <th>Mneuve1</th>\n",
              "      <th>Mneuve2</th>\n",
              "      <th>Brebeuf</th>\n",
              "    </tr>\n",
              "    <tr>\n",
              "      <th>Date</th>\n",
              "      <th></th>\n",
              "      <th></th>\n",
              "      <th></th>\n",
              "      <th></th>\n",
              "    </tr>\n",
              "  </thead>\n",
              "  <tbody>\n",
              "    <tr>\n",
              "      <th>2009-01-01</th>\n",
              "      <td>NaN</td>\n",
              "      <td>NaN</td>\n",
              "      <td>NaN</td>\n",
              "      <td>NaN</td>\n",
              "    </tr>\n",
              "    <tr>\n",
              "      <th>2009-01-02</th>\n",
              "      <td>NaN</td>\n",
              "      <td>NaN</td>\n",
              "      <td>NaN</td>\n",
              "      <td>NaN</td>\n",
              "    </tr>\n",
              "    <tr>\n",
              "      <th>2009-01-03</th>\n",
              "      <td>36.666667</td>\n",
              "      <td>17.333333</td>\n",
              "      <td>39.000000</td>\n",
              "      <td>2576.359551</td>\n",
              "    </tr>\n",
              "    <tr>\n",
              "      <th>2009-01-04</th>\n",
              "      <td>27.000000</td>\n",
              "      <td>10.666667</td>\n",
              "      <td>27.333333</td>\n",
              "      <td>2576.359551</td>\n",
              "    </tr>\n",
              "    <tr>\n",
              "      <th>2009-01-05</th>\n",
              "      <td>664.000000</td>\n",
              "      <td>428.666667</td>\n",
              "      <td>527.000000</td>\n",
              "      <td>2576.359551</td>\n",
              "    </tr>\n",
              "    <tr>\n",
              "      <th>2009-01-06</th>\n",
              "      <td>1733.000000</td>\n",
              "      <td>1116.333333</td>\n",
              "      <td>1409.000000</td>\n",
              "      <td>2576.359551</td>\n",
              "    </tr>\n",
              "    <tr>\n",
              "      <th>2009-01-07</th>\n",
              "      <td>3223.333333</td>\n",
              "      <td>1862.666667</td>\n",
              "      <td>2426.000000</td>\n",
              "      <td>2576.359551</td>\n",
              "    </tr>\n",
              "    <tr>\n",
              "      <th>2009-01-08</th>\n",
              "      <td>2602.666667</td>\n",
              "      <td>1795.000000</td>\n",
              "      <td>3042.666667</td>\n",
              "      <td>3673.906367</td>\n",
              "    </tr>\n",
              "    <tr>\n",
              "      <th>2009-01-09</th>\n",
              "      <td>3277.333333</td>\n",
              "      <td>2029.333333</td>\n",
              "      <td>4055.666667</td>\n",
              "      <td>5128.119850</td>\n",
              "    </tr>\n",
              "    <tr>\n",
              "      <th>2009-01-10</th>\n",
              "      <td>2668.000000</td>\n",
              "      <td>1290.333333</td>\n",
              "      <td>4214.666667</td>\n",
              "      <td>4798.666667</td>\n",
              "    </tr>\n",
              "  </tbody>\n",
              "</table>\n",
              "</div>"
            ],
            "text/plain": [
              "                  Berri      Mneuve1      Mneuve2      Brebeuf\n",
              "Date                                                          \n",
              "2009-01-01          NaN          NaN          NaN          NaN\n",
              "2009-01-02          NaN          NaN          NaN          NaN\n",
              "2009-01-03    36.666667    17.333333    39.000000  2576.359551\n",
              "2009-01-04    27.000000    10.666667    27.333333  2576.359551\n",
              "2009-01-05   664.000000   428.666667   527.000000  2576.359551\n",
              "2009-01-06  1733.000000  1116.333333  1409.000000  2576.359551\n",
              "2009-01-07  3223.333333  1862.666667  2426.000000  2576.359551\n",
              "2009-01-08  2602.666667  1795.000000  3042.666667  3673.906367\n",
              "2009-01-09  3277.333333  2029.333333  4055.666667  5128.119850\n",
              "2009-01-10  2668.000000  1290.333333  4214.666667  4798.666667"
            ]
          },
          "metadata": {
            "tags": []
          },
          "execution_count": 26
        }
      ]
    },
    {
      "metadata": {
        "id": "A94e1fY5bCxa",
        "colab_type": "code",
        "colab": {},
        "outputId": "6485de7b-30c0-4653-d516-528b673b94db"
      },
      "cell_type": "code",
      "source": [
        "d.index = d.index + pd.Timedelta(\"5m\")\n",
        "d.head()"
      ],
      "execution_count": 0,
      "outputs": [
        {
          "output_type": "execute_result",
          "data": {
            "text/html": [
              "<div>\n",
              "<style scoped>\n",
              "    .dataframe tbody tr th:only-of-type {\n",
              "        vertical-align: middle;\n",
              "    }\n",
              "\n",
              "    .dataframe tbody tr th {\n",
              "        vertical-align: top;\n",
              "    }\n",
              "\n",
              "    .dataframe thead th {\n",
              "        text-align: right;\n",
              "    }\n",
              "</style>\n",
              "<table border=\"1\" class=\"dataframe\">\n",
              "  <thead>\n",
              "    <tr style=\"text-align: right;\">\n",
              "      <th></th>\n",
              "      <th>Berri</th>\n",
              "      <th>Mneuve1</th>\n",
              "      <th>Mneuve2</th>\n",
              "      <th>Brebeuf</th>\n",
              "    </tr>\n",
              "    <tr>\n",
              "      <th>Date</th>\n",
              "      <th></th>\n",
              "      <th></th>\n",
              "      <th></th>\n",
              "      <th></th>\n",
              "    </tr>\n",
              "  </thead>\n",
              "  <tbody>\n",
              "    <tr>\n",
              "      <th>2009-01-01 00:05:00</th>\n",
              "      <td>29</td>\n",
              "      <td>20</td>\n",
              "      <td>35</td>\n",
              "      <td>2576.359551</td>\n",
              "    </tr>\n",
              "    <tr>\n",
              "      <th>2009-01-02 00:05:00</th>\n",
              "      <td>14</td>\n",
              "      <td>2</td>\n",
              "      <td>2</td>\n",
              "      <td>2576.359551</td>\n",
              "    </tr>\n",
              "    <tr>\n",
              "      <th>2009-01-03 00:05:00</th>\n",
              "      <td>67</td>\n",
              "      <td>30</td>\n",
              "      <td>80</td>\n",
              "      <td>2576.359551</td>\n",
              "    </tr>\n",
              "    <tr>\n",
              "      <th>2009-01-04 00:05:00</th>\n",
              "      <td>0</td>\n",
              "      <td>0</td>\n",
              "      <td>0</td>\n",
              "      <td>2576.359551</td>\n",
              "    </tr>\n",
              "    <tr>\n",
              "      <th>2009-01-05 00:05:00</th>\n",
              "      <td>1925</td>\n",
              "      <td>1256</td>\n",
              "      <td>1501</td>\n",
              "      <td>2576.359551</td>\n",
              "    </tr>\n",
              "  </tbody>\n",
              "</table>\n",
              "</div>"
            ],
            "text/plain": [
              "                     Berri  Mneuve1  Mneuve2      Brebeuf\n",
              "Date                                                     \n",
              "2009-01-01 00:05:00     29       20       35  2576.359551\n",
              "2009-01-02 00:05:00     14        2        2  2576.359551\n",
              "2009-01-03 00:05:00     67       30       80  2576.359551\n",
              "2009-01-04 00:05:00      0        0        0  2576.359551\n",
              "2009-01-05 00:05:00   1925     1256     1501  2576.359551"
            ]
          },
          "metadata": {
            "tags": []
          },
          "execution_count": 27
        }
      ]
    },
    {
      "metadata": {
        "id": "vVaF34JJbCxd",
        "colab_type": "code",
        "colab": {},
        "outputId": "f56e1519-1558-4d5d-cb3b-6a9b5397a6be"
      },
      "cell_type": "code",
      "source": [
        "d.shift(freq=pd.Timedelta(days=365)).head()"
      ],
      "execution_count": 0,
      "outputs": [
        {
          "output_type": "execute_result",
          "data": {
            "text/html": [
              "<div>\n",
              "<style scoped>\n",
              "    .dataframe tbody tr th:only-of-type {\n",
              "        vertical-align: middle;\n",
              "    }\n",
              "\n",
              "    .dataframe tbody tr th {\n",
              "        vertical-align: top;\n",
              "    }\n",
              "\n",
              "    .dataframe thead th {\n",
              "        text-align: right;\n",
              "    }\n",
              "</style>\n",
              "<table border=\"1\" class=\"dataframe\">\n",
              "  <thead>\n",
              "    <tr style=\"text-align: right;\">\n",
              "      <th></th>\n",
              "      <th>Berri</th>\n",
              "      <th>Mneuve1</th>\n",
              "      <th>Mneuve2</th>\n",
              "      <th>Brebeuf</th>\n",
              "    </tr>\n",
              "    <tr>\n",
              "      <th>Date</th>\n",
              "      <th></th>\n",
              "      <th></th>\n",
              "      <th></th>\n",
              "      <th></th>\n",
              "    </tr>\n",
              "  </thead>\n",
              "  <tbody>\n",
              "    <tr>\n",
              "      <th>2010-01-01 00:05:00</th>\n",
              "      <td>29</td>\n",
              "      <td>20</td>\n",
              "      <td>35</td>\n",
              "      <td>2576.359551</td>\n",
              "    </tr>\n",
              "    <tr>\n",
              "      <th>2010-01-02 00:05:00</th>\n",
              "      <td>14</td>\n",
              "      <td>2</td>\n",
              "      <td>2</td>\n",
              "      <td>2576.359551</td>\n",
              "    </tr>\n",
              "    <tr>\n",
              "      <th>2010-01-03 00:05:00</th>\n",
              "      <td>67</td>\n",
              "      <td>30</td>\n",
              "      <td>80</td>\n",
              "      <td>2576.359551</td>\n",
              "    </tr>\n",
              "    <tr>\n",
              "      <th>2010-01-04 00:05:00</th>\n",
              "      <td>0</td>\n",
              "      <td>0</td>\n",
              "      <td>0</td>\n",
              "      <td>2576.359551</td>\n",
              "    </tr>\n",
              "    <tr>\n",
              "      <th>2010-01-05 00:05:00</th>\n",
              "      <td>1925</td>\n",
              "      <td>1256</td>\n",
              "      <td>1501</td>\n",
              "      <td>2576.359551</td>\n",
              "    </tr>\n",
              "  </tbody>\n",
              "</table>\n",
              "</div>"
            ],
            "text/plain": [
              "                     Berri  Mneuve1  Mneuve2      Brebeuf\n",
              "Date                                                     \n",
              "2010-01-01 00:05:00     29       20       35  2576.359551\n",
              "2010-01-02 00:05:00     14        2        2  2576.359551\n",
              "2010-01-03 00:05:00     67       30       80  2576.359551\n",
              "2010-01-04 00:05:00      0        0        0  2576.359551\n",
              "2010-01-05 00:05:00   1925     1256     1501  2576.359551"
            ]
          },
          "metadata": {
            "tags": []
          },
          "execution_count": 28
        }
      ]
    },
    {
      "metadata": {
        "id": "Q8_Jvs9sbCxl",
        "colab_type": "text"
      },
      "cell_type": "markdown",
      "source": [
        "resampling"
      ]
    },
    {
      "metadata": {
        "id": "WC1iS7LAbCxl",
        "colab_type": "code",
        "colab": {},
        "outputId": "aa7fd9e5-eac0-44af-e4bf-86ffcdb5cef5"
      },
      "cell_type": "code",
      "source": [
        "d.resample(pd.Timedelta(\"2d\")).first().head()"
      ],
      "execution_count": 0,
      "outputs": [
        {
          "output_type": "execute_result",
          "data": {
            "text/html": [
              "<div>\n",
              "<style scoped>\n",
              "    .dataframe tbody tr th:only-of-type {\n",
              "        vertical-align: middle;\n",
              "    }\n",
              "\n",
              "    .dataframe tbody tr th {\n",
              "        vertical-align: top;\n",
              "    }\n",
              "\n",
              "    .dataframe thead th {\n",
              "        text-align: right;\n",
              "    }\n",
              "</style>\n",
              "<table border=\"1\" class=\"dataframe\">\n",
              "  <thead>\n",
              "    <tr style=\"text-align: right;\">\n",
              "      <th></th>\n",
              "      <th>Berri</th>\n",
              "      <th>Mneuve1</th>\n",
              "      <th>Mneuve2</th>\n",
              "      <th>Brebeuf</th>\n",
              "    </tr>\n",
              "    <tr>\n",
              "      <th>Date</th>\n",
              "      <th></th>\n",
              "      <th></th>\n",
              "      <th></th>\n",
              "      <th></th>\n",
              "    </tr>\n",
              "  </thead>\n",
              "  <tbody>\n",
              "    <tr>\n",
              "      <th>2009-01-01 00:05:00</th>\n",
              "      <td>29</td>\n",
              "      <td>20</td>\n",
              "      <td>35</td>\n",
              "      <td>2576.359551</td>\n",
              "    </tr>\n",
              "    <tr>\n",
              "      <th>2009-01-03 00:05:00</th>\n",
              "      <td>67</td>\n",
              "      <td>30</td>\n",
              "      <td>80</td>\n",
              "      <td>2576.359551</td>\n",
              "    </tr>\n",
              "    <tr>\n",
              "      <th>2009-01-05 00:05:00</th>\n",
              "      <td>1925</td>\n",
              "      <td>1256</td>\n",
              "      <td>1501</td>\n",
              "      <td>2576.359551</td>\n",
              "    </tr>\n",
              "    <tr>\n",
              "      <th>2009-01-07 00:05:00</th>\n",
              "      <td>4471</td>\n",
              "      <td>2239</td>\n",
              "      <td>3051</td>\n",
              "      <td>2576.359551</td>\n",
              "    </tr>\n",
              "    <tr>\n",
              "      <th>2009-01-09 00:05:00</th>\n",
              "      <td>5298</td>\n",
              "      <td>2796</td>\n",
              "      <td>5765</td>\n",
              "      <td>6939.000000</td>\n",
              "    </tr>\n",
              "  </tbody>\n",
              "</table>\n",
              "</div>"
            ],
            "text/plain": [
              "                     Berri  Mneuve1  Mneuve2      Brebeuf\n",
              "Date                                                     \n",
              "2009-01-01 00:05:00     29       20       35  2576.359551\n",
              "2009-01-03 00:05:00     67       30       80  2576.359551\n",
              "2009-01-05 00:05:00   1925     1256     1501  2576.359551\n",
              "2009-01-07 00:05:00   4471     2239     3051  2576.359551\n",
              "2009-01-09 00:05:00   5298     2796     5765  6939.000000"
            ]
          },
          "metadata": {
            "tags": []
          },
          "execution_count": 29
        }
      ]
    },
    {
      "metadata": {
        "id": "mNOR8ZasbCxs",
        "colab_type": "code",
        "colab": {},
        "outputId": "e99f1138-d1f7-4e64-ed4c-1dbba679616d"
      },
      "cell_type": "code",
      "source": [
        "d.resample(pd.Timedelta(\"2d\")).mean().head()"
      ],
      "execution_count": 0,
      "outputs": [
        {
          "output_type": "execute_result",
          "data": {
            "text/html": [
              "<div>\n",
              "<style scoped>\n",
              "    .dataframe tbody tr th:only-of-type {\n",
              "        vertical-align: middle;\n",
              "    }\n",
              "\n",
              "    .dataframe tbody tr th {\n",
              "        vertical-align: top;\n",
              "    }\n",
              "\n",
              "    .dataframe thead th {\n",
              "        text-align: right;\n",
              "    }\n",
              "</style>\n",
              "<table border=\"1\" class=\"dataframe\">\n",
              "  <thead>\n",
              "    <tr style=\"text-align: right;\">\n",
              "      <th></th>\n",
              "      <th>Berri</th>\n",
              "      <th>Mneuve1</th>\n",
              "      <th>Mneuve2</th>\n",
              "      <th>Brebeuf</th>\n",
              "    </tr>\n",
              "    <tr>\n",
              "      <th>Date</th>\n",
              "      <th></th>\n",
              "      <th></th>\n",
              "      <th></th>\n",
              "      <th></th>\n",
              "    </tr>\n",
              "  </thead>\n",
              "  <tbody>\n",
              "    <tr>\n",
              "      <th>2009-01-01 00:05:00</th>\n",
              "      <td>21.5</td>\n",
              "      <td>11.0</td>\n",
              "      <td>18.5</td>\n",
              "      <td>2576.359551</td>\n",
              "    </tr>\n",
              "    <tr>\n",
              "      <th>2009-01-03 00:05:00</th>\n",
              "      <td>33.5</td>\n",
              "      <td>15.0</td>\n",
              "      <td>40.0</td>\n",
              "      <td>2576.359551</td>\n",
              "    </tr>\n",
              "    <tr>\n",
              "      <th>2009-01-05 00:05:00</th>\n",
              "      <td>2599.5</td>\n",
              "      <td>1674.5</td>\n",
              "      <td>2113.5</td>\n",
              "      <td>2576.359551</td>\n",
              "    </tr>\n",
              "    <tr>\n",
              "      <th>2009-01-07 00:05:00</th>\n",
              "      <td>2267.0</td>\n",
              "      <td>1646.0</td>\n",
              "      <td>3201.0</td>\n",
              "      <td>4222.679775</td>\n",
              "    </tr>\n",
              "    <tr>\n",
              "      <th>2009-01-09 00:05:00</th>\n",
              "      <td>3970.5</td>\n",
              "      <td>1409.0</td>\n",
              "      <td>4646.5</td>\n",
              "      <td>4263.500000</td>\n",
              "    </tr>\n",
              "  </tbody>\n",
              "</table>\n",
              "</div>"
            ],
            "text/plain": [
              "                      Berri  Mneuve1  Mneuve2      Brebeuf\n",
              "Date                                                      \n",
              "2009-01-01 00:05:00    21.5     11.0     18.5  2576.359551\n",
              "2009-01-03 00:05:00    33.5     15.0     40.0  2576.359551\n",
              "2009-01-05 00:05:00  2599.5   1674.5   2113.5  2576.359551\n",
              "2009-01-07 00:05:00  2267.0   1646.0   3201.0  4222.679775\n",
              "2009-01-09 00:05:00  3970.5   1409.0   4646.5  4263.500000"
            ]
          },
          "metadata": {
            "tags": []
          },
          "execution_count": 30
        }
      ]
    },
    {
      "metadata": {
        "id": "qgwt9qFkbCxw",
        "colab_type": "code",
        "colab": {},
        "outputId": "50196d79-495d-45c0-d36e-ed0498384ccc"
      },
      "cell_type": "code",
      "source": [
        "d.resample(pd.Timedelta(\"12h\")).first().head()"
      ],
      "execution_count": 0,
      "outputs": [
        {
          "output_type": "execute_result",
          "data": {
            "text/html": [
              "<div>\n",
              "<style scoped>\n",
              "    .dataframe tbody tr th:only-of-type {\n",
              "        vertical-align: middle;\n",
              "    }\n",
              "\n",
              "    .dataframe tbody tr th {\n",
              "        vertical-align: top;\n",
              "    }\n",
              "\n",
              "    .dataframe thead th {\n",
              "        text-align: right;\n",
              "    }\n",
              "</style>\n",
              "<table border=\"1\" class=\"dataframe\">\n",
              "  <thead>\n",
              "    <tr style=\"text-align: right;\">\n",
              "      <th></th>\n",
              "      <th>Berri</th>\n",
              "      <th>Mneuve1</th>\n",
              "      <th>Mneuve2</th>\n",
              "      <th>Brebeuf</th>\n",
              "    </tr>\n",
              "    <tr>\n",
              "      <th>Date</th>\n",
              "      <th></th>\n",
              "      <th></th>\n",
              "      <th></th>\n",
              "      <th></th>\n",
              "    </tr>\n",
              "  </thead>\n",
              "  <tbody>\n",
              "    <tr>\n",
              "      <th>2009-01-01 00:00:00</th>\n",
              "      <td>29.0</td>\n",
              "      <td>20.0</td>\n",
              "      <td>35.0</td>\n",
              "      <td>2576.359551</td>\n",
              "    </tr>\n",
              "    <tr>\n",
              "      <th>2009-01-01 12:00:00</th>\n",
              "      <td>NaN</td>\n",
              "      <td>NaN</td>\n",
              "      <td>NaN</td>\n",
              "      <td>NaN</td>\n",
              "    </tr>\n",
              "    <tr>\n",
              "      <th>2009-01-02 00:00:00</th>\n",
              "      <td>14.0</td>\n",
              "      <td>2.0</td>\n",
              "      <td>2.0</td>\n",
              "      <td>2576.359551</td>\n",
              "    </tr>\n",
              "    <tr>\n",
              "      <th>2009-01-02 12:00:00</th>\n",
              "      <td>NaN</td>\n",
              "      <td>NaN</td>\n",
              "      <td>NaN</td>\n",
              "      <td>NaN</td>\n",
              "    </tr>\n",
              "    <tr>\n",
              "      <th>2009-01-03 00:00:00</th>\n",
              "      <td>67.0</td>\n",
              "      <td>30.0</td>\n",
              "      <td>80.0</td>\n",
              "      <td>2576.359551</td>\n",
              "    </tr>\n",
              "  </tbody>\n",
              "</table>\n",
              "</div>"
            ],
            "text/plain": [
              "                     Berri  Mneuve1  Mneuve2      Brebeuf\n",
              "Date                                                     \n",
              "2009-01-01 00:00:00   29.0     20.0     35.0  2576.359551\n",
              "2009-01-01 12:00:00    NaN      NaN      NaN          NaN\n",
              "2009-01-02 00:00:00   14.0      2.0      2.0  2576.359551\n",
              "2009-01-02 12:00:00    NaN      NaN      NaN          NaN\n",
              "2009-01-03 00:00:00   67.0     30.0     80.0  2576.359551"
            ]
          },
          "metadata": {
            "tags": []
          },
          "execution_count": 31
        }
      ]
    },
    {
      "metadata": {
        "id": "ilJ39EuVbCx2",
        "colab_type": "text"
      },
      "cell_type": "markdown",
      "source": [
        "oversampling"
      ]
    },
    {
      "metadata": {
        "id": "SVwbc4X8bCx3",
        "colab_type": "code",
        "colab": {},
        "outputId": "3b3b8177-d17e-41ea-f944-b20687444f53"
      },
      "cell_type": "code",
      "source": [
        "d.resample(pd.Timedelta(\"12h\")).fillna(method=\"pad\").head()"
      ],
      "execution_count": 0,
      "outputs": [
        {
          "output_type": "execute_result",
          "data": {
            "text/html": [
              "<div>\n",
              "<style scoped>\n",
              "    .dataframe tbody tr th:only-of-type {\n",
              "        vertical-align: middle;\n",
              "    }\n",
              "\n",
              "    .dataframe tbody tr th {\n",
              "        vertical-align: top;\n",
              "    }\n",
              "\n",
              "    .dataframe thead th {\n",
              "        text-align: right;\n",
              "    }\n",
              "</style>\n",
              "<table border=\"1\" class=\"dataframe\">\n",
              "  <thead>\n",
              "    <tr style=\"text-align: right;\">\n",
              "      <th></th>\n",
              "      <th>Berri</th>\n",
              "      <th>Mneuve1</th>\n",
              "      <th>Mneuve2</th>\n",
              "      <th>Brebeuf</th>\n",
              "    </tr>\n",
              "    <tr>\n",
              "      <th>Date</th>\n",
              "      <th></th>\n",
              "      <th></th>\n",
              "      <th></th>\n",
              "      <th></th>\n",
              "    </tr>\n",
              "  </thead>\n",
              "  <tbody>\n",
              "    <tr>\n",
              "      <th>2009-01-01 00:00:00</th>\n",
              "      <td>NaN</td>\n",
              "      <td>NaN</td>\n",
              "      <td>NaN</td>\n",
              "      <td>NaN</td>\n",
              "    </tr>\n",
              "    <tr>\n",
              "      <th>2009-01-01 12:00:00</th>\n",
              "      <td>29.0</td>\n",
              "      <td>20.0</td>\n",
              "      <td>35.0</td>\n",
              "      <td>2576.359551</td>\n",
              "    </tr>\n",
              "    <tr>\n",
              "      <th>2009-01-02 00:00:00</th>\n",
              "      <td>29.0</td>\n",
              "      <td>20.0</td>\n",
              "      <td>35.0</td>\n",
              "      <td>2576.359551</td>\n",
              "    </tr>\n",
              "    <tr>\n",
              "      <th>2009-01-02 12:00:00</th>\n",
              "      <td>14.0</td>\n",
              "      <td>2.0</td>\n",
              "      <td>2.0</td>\n",
              "      <td>2576.359551</td>\n",
              "    </tr>\n",
              "    <tr>\n",
              "      <th>2009-01-03 00:00:00</th>\n",
              "      <td>14.0</td>\n",
              "      <td>2.0</td>\n",
              "      <td>2.0</td>\n",
              "      <td>2576.359551</td>\n",
              "    </tr>\n",
              "  </tbody>\n",
              "</table>\n",
              "</div>"
            ],
            "text/plain": [
              "                     Berri  Mneuve1  Mneuve2      Brebeuf\n",
              "Date                                                     \n",
              "2009-01-01 00:00:00    NaN      NaN      NaN          NaN\n",
              "2009-01-01 12:00:00   29.0     20.0     35.0  2576.359551\n",
              "2009-01-02 00:00:00   29.0     20.0     35.0  2576.359551\n",
              "2009-01-02 12:00:00   14.0      2.0      2.0  2576.359551\n",
              "2009-01-03 00:00:00   14.0      2.0      2.0  2576.359551"
            ]
          },
          "metadata": {
            "tags": []
          },
          "execution_count": 32
        }
      ]
    },
    {
      "metadata": {
        "id": "NyuVYafnbCx6",
        "colab_type": "text"
      },
      "cell_type": "markdown",
      "source": [
        "## building from arrays or lists"
      ]
    },
    {
      "metadata": {
        "id": "DHLEgfSJbCyD",
        "colab_type": "code",
        "colab": {},
        "outputId": "d1cf6de7-7d36-4b49-e644-732490659d43"
      },
      "cell_type": "code",
      "source": [
        "a = np.random.randint(10,size=(20,5))\n",
        "a"
      ],
      "execution_count": 0,
      "outputs": [
        {
          "output_type": "execute_result",
          "data": {
            "text/plain": [
              "array([[1, 5, 2, 5, 2],\n",
              "       [4, 2, 8, 1, 8],\n",
              "       [7, 3, 4, 9, 1],\n",
              "       [6, 5, 6, 0, 3],\n",
              "       [1, 9, 6, 8, 7],\n",
              "       [9, 8, 3, 4, 0],\n",
              "       [3, 4, 7, 3, 7],\n",
              "       [1, 9, 0, 2, 1],\n",
              "       [8, 8, 8, 1, 6],\n",
              "       [2, 9, 7, 5, 8],\n",
              "       [0, 7, 3, 4, 3],\n",
              "       [7, 3, 0, 3, 1],\n",
              "       [3, 4, 8, 1, 6],\n",
              "       [4, 0, 8, 3, 0],\n",
              "       [3, 7, 9, 4, 9],\n",
              "       [8, 5, 2, 1, 9],\n",
              "       [7, 0, 9, 6, 9],\n",
              "       [9, 3, 3, 8, 5],\n",
              "       [2, 2, 9, 1, 7],\n",
              "       [9, 1, 7, 9, 1]])"
            ]
          },
          "metadata": {
            "tags": []
          },
          "execution_count": 33
        }
      ]
    },
    {
      "metadata": {
        "id": "sxzsV_KBbCyG",
        "colab_type": "code",
        "colab": {},
        "outputId": "b34c6cb0-da03-4eb2-8d38-b068dbdaa96d"
      },
      "cell_type": "code",
      "source": [
        "k = pd.DataFrame(a, columns=[\"uno\", \"dos\", \"tres\", \"cuatro\", \"cinco\"], index=range(10,10+len(a)))\n",
        "k"
      ],
      "execution_count": 0,
      "outputs": [
        {
          "output_type": "execute_result",
          "data": {
            "text/html": [
              "<div>\n",
              "<style scoped>\n",
              "    .dataframe tbody tr th:only-of-type {\n",
              "        vertical-align: middle;\n",
              "    }\n",
              "\n",
              "    .dataframe tbody tr th {\n",
              "        vertical-align: top;\n",
              "    }\n",
              "\n",
              "    .dataframe thead th {\n",
              "        text-align: right;\n",
              "    }\n",
              "</style>\n",
              "<table border=\"1\" class=\"dataframe\">\n",
              "  <thead>\n",
              "    <tr style=\"text-align: right;\">\n",
              "      <th></th>\n",
              "      <th>uno</th>\n",
              "      <th>dos</th>\n",
              "      <th>tres</th>\n",
              "      <th>cuatro</th>\n",
              "      <th>cinco</th>\n",
              "    </tr>\n",
              "  </thead>\n",
              "  <tbody>\n",
              "    <tr>\n",
              "      <th>10</th>\n",
              "      <td>1</td>\n",
              "      <td>5</td>\n",
              "      <td>2</td>\n",
              "      <td>5</td>\n",
              "      <td>2</td>\n",
              "    </tr>\n",
              "    <tr>\n",
              "      <th>11</th>\n",
              "      <td>4</td>\n",
              "      <td>2</td>\n",
              "      <td>8</td>\n",
              "      <td>1</td>\n",
              "      <td>8</td>\n",
              "    </tr>\n",
              "    <tr>\n",
              "      <th>12</th>\n",
              "      <td>7</td>\n",
              "      <td>3</td>\n",
              "      <td>4</td>\n",
              "      <td>9</td>\n",
              "      <td>1</td>\n",
              "    </tr>\n",
              "    <tr>\n",
              "      <th>13</th>\n",
              "      <td>6</td>\n",
              "      <td>5</td>\n",
              "      <td>6</td>\n",
              "      <td>0</td>\n",
              "      <td>3</td>\n",
              "    </tr>\n",
              "    <tr>\n",
              "      <th>14</th>\n",
              "      <td>1</td>\n",
              "      <td>9</td>\n",
              "      <td>6</td>\n",
              "      <td>8</td>\n",
              "      <td>7</td>\n",
              "    </tr>\n",
              "    <tr>\n",
              "      <th>15</th>\n",
              "      <td>9</td>\n",
              "      <td>8</td>\n",
              "      <td>3</td>\n",
              "      <td>4</td>\n",
              "      <td>0</td>\n",
              "    </tr>\n",
              "    <tr>\n",
              "      <th>16</th>\n",
              "      <td>3</td>\n",
              "      <td>4</td>\n",
              "      <td>7</td>\n",
              "      <td>3</td>\n",
              "      <td>7</td>\n",
              "    </tr>\n",
              "    <tr>\n",
              "      <th>17</th>\n",
              "      <td>1</td>\n",
              "      <td>9</td>\n",
              "      <td>0</td>\n",
              "      <td>2</td>\n",
              "      <td>1</td>\n",
              "    </tr>\n",
              "    <tr>\n",
              "      <th>18</th>\n",
              "      <td>8</td>\n",
              "      <td>8</td>\n",
              "      <td>8</td>\n",
              "      <td>1</td>\n",
              "      <td>6</td>\n",
              "    </tr>\n",
              "    <tr>\n",
              "      <th>19</th>\n",
              "      <td>2</td>\n",
              "      <td>9</td>\n",
              "      <td>7</td>\n",
              "      <td>5</td>\n",
              "      <td>8</td>\n",
              "    </tr>\n",
              "    <tr>\n",
              "      <th>20</th>\n",
              "      <td>0</td>\n",
              "      <td>7</td>\n",
              "      <td>3</td>\n",
              "      <td>4</td>\n",
              "      <td>3</td>\n",
              "    </tr>\n",
              "    <tr>\n",
              "      <th>21</th>\n",
              "      <td>7</td>\n",
              "      <td>3</td>\n",
              "      <td>0</td>\n",
              "      <td>3</td>\n",
              "      <td>1</td>\n",
              "    </tr>\n",
              "    <tr>\n",
              "      <th>22</th>\n",
              "      <td>3</td>\n",
              "      <td>4</td>\n",
              "      <td>8</td>\n",
              "      <td>1</td>\n",
              "      <td>6</td>\n",
              "    </tr>\n",
              "    <tr>\n",
              "      <th>23</th>\n",
              "      <td>4</td>\n",
              "      <td>0</td>\n",
              "      <td>8</td>\n",
              "      <td>3</td>\n",
              "      <td>0</td>\n",
              "    </tr>\n",
              "    <tr>\n",
              "      <th>24</th>\n",
              "      <td>3</td>\n",
              "      <td>7</td>\n",
              "      <td>9</td>\n",
              "      <td>4</td>\n",
              "      <td>9</td>\n",
              "    </tr>\n",
              "    <tr>\n",
              "      <th>25</th>\n",
              "      <td>8</td>\n",
              "      <td>5</td>\n",
              "      <td>2</td>\n",
              "      <td>1</td>\n",
              "      <td>9</td>\n",
              "    </tr>\n",
              "    <tr>\n",
              "      <th>26</th>\n",
              "      <td>7</td>\n",
              "      <td>0</td>\n",
              "      <td>9</td>\n",
              "      <td>6</td>\n",
              "      <td>9</td>\n",
              "    </tr>\n",
              "    <tr>\n",
              "      <th>27</th>\n",
              "      <td>9</td>\n",
              "      <td>3</td>\n",
              "      <td>3</td>\n",
              "      <td>8</td>\n",
              "      <td>5</td>\n",
              "    </tr>\n",
              "    <tr>\n",
              "      <th>28</th>\n",
              "      <td>2</td>\n",
              "      <td>2</td>\n",
              "      <td>9</td>\n",
              "      <td>1</td>\n",
              "      <td>7</td>\n",
              "    </tr>\n",
              "    <tr>\n",
              "      <th>29</th>\n",
              "      <td>9</td>\n",
              "      <td>1</td>\n",
              "      <td>7</td>\n",
              "      <td>9</td>\n",
              "      <td>1</td>\n",
              "    </tr>\n",
              "  </tbody>\n",
              "</table>\n",
              "</div>"
            ],
            "text/plain": [
              "    uno  dos  tres  cuatro  cinco\n",
              "10    1    5     2       5      2\n",
              "11    4    2     8       1      8\n",
              "12    7    3     4       9      1\n",
              "13    6    5     6       0      3\n",
              "14    1    9     6       8      7\n",
              "15    9    8     3       4      0\n",
              "16    3    4     7       3      7\n",
              "17    1    9     0       2      1\n",
              "18    8    8     8       1      6\n",
              "19    2    9     7       5      8\n",
              "20    0    7     3       4      3\n",
              "21    7    3     0       3      1\n",
              "22    3    4     8       1      6\n",
              "23    4    0     8       3      0\n",
              "24    3    7     9       4      9\n",
              "25    8    5     2       1      9\n",
              "26    7    0     9       6      9\n",
              "27    9    3     3       8      5\n",
              "28    2    2     9       1      7\n",
              "29    9    1     7       9      1"
            ]
          },
          "metadata": {
            "tags": []
          },
          "execution_count": 34
        }
      ]
    },
    {
      "metadata": {
        "id": "c9hKDHODbCyI",
        "colab_type": "text"
      },
      "cell_type": "markdown",
      "source": [
        "## plotting"
      ]
    },
    {
      "metadata": {
        "id": "vcRjxIdSbCyJ",
        "colab_type": "code",
        "colab": {},
        "outputId": "58a62575-a7f0-4265-8f2d-8672145d1c55"
      },
      "cell_type": "code",
      "source": [
        "d.plot(figsize=(15,3))"
      ],
      "execution_count": 0,
      "outputs": [
        {
          "output_type": "execute_result",
          "data": {
            "text/plain": [
              "<matplotlib.axes._subplots.AxesSubplot at 0x7f4bc57ff0d0>"
            ]
          },
          "metadata": {
            "tags": []
          },
          "execution_count": 35
        },
        {
          "output_type": "display_data",
          "data": {
            "image/png": "[encoded data removed]",
            "text/plain": [
              "<Figure size 1080x216 with 1 Axes>"
            ]
          },
          "metadata": {
            "tags": []
          }
        }
      ]
    },
    {
      "metadata": {
        "id": "Ud_IUyskbCyL",
        "colab_type": "code",
        "colab": {},
        "outputId": "26a5579c-40e5-4fdc-8498-e4da9881e0d2"
      },
      "cell_type": "code",
      "source": [
        "d.Berri.plot()"
      ],
      "execution_count": 0,
      "outputs": [
        {
          "output_type": "execute_result",
          "data": {
            "text/plain": [
              "<matplotlib.axes._subplots.AxesSubplot at 0x7f4bc53c9610>"
            ]
          },
          "metadata": {
            "tags": []
          },
          "execution_count": 36
        },
        {
          "output_type": "display_data",
          "data": {
            "image/png": "[encoded data removed]",
            "text/plain": [
              "<Figure size 432x288 with 1 Axes>"
            ]
          },
          "metadata": {
            "tags": []
          }
        }
      ]
    },
    {
      "metadata": {
        "id": "lHqE3LE6bCyN",
        "colab_type": "code",
        "colab": {},
        "outputId": "aa3b07d6-10e7-4cbf-8392-06ec1b37480f"
      },
      "cell_type": "code",
      "source": [
        "d.Berri.cumsum().plot()"
      ],
      "execution_count": 0,
      "outputs": [
        {
          "output_type": "execute_result",
          "data": {
            "text/plain": [
              "<matplotlib.axes._subplots.AxesSubplot at 0x7f4bc5462590>"
            ]
          },
          "metadata": {
            "tags": []
          },
          "execution_count": 37
        },
        {
          "output_type": "display_data",
          "data": {
            "image/png": "[encoded data removed]",
            "text/plain": [
              "<Figure size 432x288 with 1 Axes>"
            ]
          },
          "metadata": {
            "tags": []
          }
        }
      ]
    },
    {
      "metadata": {
        "id": "t2ThwVKZbCyQ",
        "colab_type": "code",
        "colab": {},
        "outputId": "253f581e-1d29-4a79-c034-44c78474ad4f"
      },
      "cell_type": "code",
      "source": [
        "plt.scatter(d.Berri, d.Brebeuf)"
      ],
      "execution_count": 0,
      "outputs": [
        {
          "output_type": "execute_result",
          "data": {
            "text/plain": [
              "<matplotlib.collections.PathCollection at 0x7f4bc4334750>"
            ]
          },
          "metadata": {
            "tags": []
          },
          "execution_count": 38
        },
        {
          "output_type": "display_data",
          "data": {
            "image/png": "[encoded data removed]",
            "text/plain": [
              "<Figure size 432x288 with 1 Axes>"
            ]
          },
          "metadata": {
            "tags": []
          }
        }
      ]
    },
    {
      "metadata": {
        "id": "vwIOABAkbCyT",
        "colab_type": "code",
        "colab": {},
        "outputId": "c8fce52b-9812-4edf-e588-86114b9b5e6d"
      },
      "cell_type": "code",
      "source": [
        "pd.plotting.scatter_matrix(d, figsize=(10,10));"
      ],
      "execution_count": 0,
      "outputs": [
        {
          "output_type": "display_data",
          "data": {
            "image/png": "[encoded data removed]",
            "text/plain": [
              "<Figure size 720x720 with 16 Axes>"
            ]
          },
          "metadata": {
            "tags": []
          }
        }
      ]
    },
    {
      "metadata": {
        "id": "4vNXROWobCyU",
        "colab_type": "text"
      },
      "cell_type": "markdown",
      "source": [
        "## grouping"
      ]
    },
    {
      "metadata": {
        "id": "DCB2Atw0bCyV",
        "colab_type": "code",
        "colab": {},
        "outputId": "45427464-6216-4650-ff3c-4724ff1401c3"
      },
      "cell_type": "code",
      "source": [
        "d[\"month\"] = [i.month for i in d.index]\n",
        "d.head()"
      ],
      "execution_count": 0,
      "outputs": [
        {
          "output_type": "execute_result",
          "data": {
            "text/html": [
              "<div>\n",
              "<style scoped>\n",
              "    .dataframe tbody tr th:only-of-type {\n",
              "        vertical-align: middle;\n",
              "    }\n",
              "\n",
              "    .dataframe tbody tr th {\n",
              "        vertical-align: top;\n",
              "    }\n",
              "\n",
              "    .dataframe thead th {\n",
              "        text-align: right;\n",
              "    }\n",
              "</style>\n",
              "<table border=\"1\" class=\"dataframe\">\n",
              "  <thead>\n",
              "    <tr style=\"text-align: right;\">\n",
              "      <th></th>\n",
              "      <th>Berri</th>\n",
              "      <th>Mneuve1</th>\n",
              "      <th>Mneuve2</th>\n",
              "      <th>Brebeuf</th>\n",
              "      <th>month</th>\n",
              "    </tr>\n",
              "    <tr>\n",
              "      <th>Date</th>\n",
              "      <th></th>\n",
              "      <th></th>\n",
              "      <th></th>\n",
              "      <th></th>\n",
              "      <th></th>\n",
              "    </tr>\n",
              "  </thead>\n",
              "  <tbody>\n",
              "    <tr>\n",
              "      <th>2009-01-01 00:05:00</th>\n",
              "      <td>29</td>\n",
              "      <td>20</td>\n",
              "      <td>35</td>\n",
              "      <td>2576.359551</td>\n",
              "      <td>1</td>\n",
              "    </tr>\n",
              "    <tr>\n",
              "      <th>2009-01-02 00:05:00</th>\n",
              "      <td>14</td>\n",
              "      <td>2</td>\n",
              "      <td>2</td>\n",
              "      <td>2576.359551</td>\n",
              "      <td>1</td>\n",
              "    </tr>\n",
              "    <tr>\n",
              "      <th>2009-01-03 00:05:00</th>\n",
              "      <td>67</td>\n",
              "      <td>30</td>\n",
              "      <td>80</td>\n",
              "      <td>2576.359551</td>\n",
              "      <td>1</td>\n",
              "    </tr>\n",
              "    <tr>\n",
              "      <th>2009-01-04 00:05:00</th>\n",
              "      <td>0</td>\n",
              "      <td>0</td>\n",
              "      <td>0</td>\n",
              "      <td>2576.359551</td>\n",
              "      <td>1</td>\n",
              "    </tr>\n",
              "    <tr>\n",
              "      <th>2009-01-05 00:05:00</th>\n",
              "      <td>1925</td>\n",
              "      <td>1256</td>\n",
              "      <td>1501</td>\n",
              "      <td>2576.359551</td>\n",
              "      <td>1</td>\n",
              "    </tr>\n",
              "  </tbody>\n",
              "</table>\n",
              "</div>"
            ],
            "text/plain": [
              "                     Berri  Mneuve1  Mneuve2      Brebeuf  month\n",
              "Date                                                            \n",
              "2009-01-01 00:05:00     29       20       35  2576.359551      1\n",
              "2009-01-02 00:05:00     14        2        2  2576.359551      1\n",
              "2009-01-03 00:05:00     67       30       80  2576.359551      1\n",
              "2009-01-04 00:05:00      0        0        0  2576.359551      1\n",
              "2009-01-05 00:05:00   1925     1256     1501  2576.359551      1"
            ]
          },
          "metadata": {
            "tags": []
          },
          "execution_count": 40
        }
      ]
    },
    {
      "metadata": {
        "id": "q8Iezj0abCyX",
        "colab_type": "code",
        "colab": {},
        "outputId": "d2121c38-4507-40f7-f929-5614300da489"
      },
      "cell_type": "code",
      "source": [
        "d.groupby(\"month\").max()"
      ],
      "execution_count": 0,
      "outputs": [
        {
          "output_type": "execute_result",
          "data": {
            "text/html": [
              "<div>\n",
              "<style scoped>\n",
              "    .dataframe tbody tr th:only-of-type {\n",
              "        vertical-align: middle;\n",
              "    }\n",
              "\n",
              "    .dataframe tbody tr th {\n",
              "        vertical-align: top;\n",
              "    }\n",
              "\n",
              "    .dataframe thead th {\n",
              "        text-align: right;\n",
              "    }\n",
              "</style>\n",
              "<table border=\"1\" class=\"dataframe\">\n",
              "  <thead>\n",
              "    <tr style=\"text-align: right;\">\n",
              "      <th></th>\n",
              "      <th>Berri</th>\n",
              "      <th>Mneuve1</th>\n",
              "      <th>Mneuve2</th>\n",
              "      <th>Brebeuf</th>\n",
              "    </tr>\n",
              "    <tr>\n",
              "      <th>month</th>\n",
              "      <th></th>\n",
              "      <th></th>\n",
              "      <th></th>\n",
              "      <th></th>\n",
              "    </tr>\n",
              "  </thead>\n",
              "  <tbody>\n",
              "    <tr>\n",
              "      <th>1</th>\n",
              "      <td>5298</td>\n",
              "      <td>2796</td>\n",
              "      <td>5765</td>\n",
              "      <td>6939.0</td>\n",
              "    </tr>\n",
              "    <tr>\n",
              "      <th>2</th>\n",
              "      <td>5451</td>\n",
              "      <td>2868</td>\n",
              "      <td>5517</td>\n",
              "      <td>7052.0</td>\n",
              "    </tr>\n",
              "    <tr>\n",
              "      <th>3</th>\n",
              "      <td>5904</td>\n",
              "      <td>3523</td>\n",
              "      <td>5762</td>\n",
              "      <td>7194.0</td>\n",
              "    </tr>\n",
              "    <tr>\n",
              "      <th>4</th>\n",
              "      <td>5278</td>\n",
              "      <td>3499</td>\n",
              "      <td>5327</td>\n",
              "      <td>5837.0</td>\n",
              "    </tr>\n",
              "    <tr>\n",
              "      <th>5</th>\n",
              "      <td>6028</td>\n",
              "      <td>4120</td>\n",
              "      <td>5397</td>\n",
              "      <td>7121.0</td>\n",
              "    </tr>\n",
              "    <tr>\n",
              "      <th>6</th>\n",
              "      <td>6320</td>\n",
              "      <td>3499</td>\n",
              "      <td>6047</td>\n",
              "      <td>5259.0</td>\n",
              "    </tr>\n",
              "    <tr>\n",
              "      <th>7</th>\n",
              "      <td>6100</td>\n",
              "      <td>3825</td>\n",
              "      <td>5536</td>\n",
              "      <td>7219.0</td>\n",
              "    </tr>\n",
              "    <tr>\n",
              "      <th>8</th>\n",
              "      <td>5452</td>\n",
              "      <td>2865</td>\n",
              "      <td>6379</td>\n",
              "      <td>7044.0</td>\n",
              "    </tr>\n",
              "    <tr>\n",
              "      <th>9</th>\n",
              "      <td>6626</td>\n",
              "      <td>4227</td>\n",
              "      <td>6535</td>\n",
              "      <td>7575.0</td>\n",
              "    </tr>\n",
              "    <tr>\n",
              "      <th>10</th>\n",
              "      <td>6274</td>\n",
              "      <td>4242</td>\n",
              "      <td>6587</td>\n",
              "      <td>7268.0</td>\n",
              "    </tr>\n",
              "    <tr>\n",
              "      <th>11</th>\n",
              "      <td>4864</td>\n",
              "      <td>2648</td>\n",
              "      <td>5895</td>\n",
              "      <td>6044.0</td>\n",
              "    </tr>\n",
              "    <tr>\n",
              "      <th>12</th>\n",
              "      <td>5538</td>\n",
              "      <td>2983</td>\n",
              "      <td>5107</td>\n",
              "      <td>7127.0</td>\n",
              "    </tr>\n",
              "  </tbody>\n",
              "</table>\n",
              "</div>"
            ],
            "text/plain": [
              "       Berri  Mneuve1  Mneuve2  Brebeuf\n",
              "month                                  \n",
              "1       5298     2796     5765   6939.0\n",
              "2       5451     2868     5517   7052.0\n",
              "3       5904     3523     5762   7194.0\n",
              "4       5278     3499     5327   5837.0\n",
              "5       6028     4120     5397   7121.0\n",
              "6       6320     3499     6047   5259.0\n",
              "7       6100     3825     5536   7219.0\n",
              "8       5452     2865     6379   7044.0\n",
              "9       6626     4227     6535   7575.0\n",
              "10      6274     4242     6587   7268.0\n",
              "11      4864     2648     5895   6044.0\n",
              "12      5538     2983     5107   7127.0"
            ]
          },
          "metadata": {
            "tags": []
          },
          "execution_count": 41
        }
      ]
    },
    {
      "metadata": {
        "id": "jYJPo4egbCyb",
        "colab_type": "code",
        "colab": {},
        "outputId": "a45835c1-02dc-4c4f-8c5f-b2c4a7220d42"
      },
      "cell_type": "code",
      "source": [
        "d.groupby(\"month\").count()"
      ],
      "execution_count": 0,
      "outputs": [
        {
          "output_type": "execute_result",
          "data": {
            "text/html": [
              "<div>\n",
              "<style scoped>\n",
              "    .dataframe tbody tr th:only-of-type {\n",
              "        vertical-align: middle;\n",
              "    }\n",
              "\n",
              "    .dataframe tbody tr th {\n",
              "        vertical-align: top;\n",
              "    }\n",
              "\n",
              "    .dataframe thead th {\n",
              "        text-align: right;\n",
              "    }\n",
              "</style>\n",
              "<table border=\"1\" class=\"dataframe\">\n",
              "  <thead>\n",
              "    <tr style=\"text-align: right;\">\n",
              "      <th></th>\n",
              "      <th>Berri</th>\n",
              "      <th>Mneuve1</th>\n",
              "      <th>Mneuve2</th>\n",
              "      <th>Brebeuf</th>\n",
              "    </tr>\n",
              "    <tr>\n",
              "      <th>month</th>\n",
              "      <th></th>\n",
              "      <th></th>\n",
              "      <th></th>\n",
              "      <th></th>\n",
              "    </tr>\n",
              "  </thead>\n",
              "  <tbody>\n",
              "    <tr>\n",
              "      <th>1</th>\n",
              "      <td>31</td>\n",
              "      <td>31</td>\n",
              "      <td>31</td>\n",
              "      <td>31</td>\n",
              "    </tr>\n",
              "    <tr>\n",
              "      <th>2</th>\n",
              "      <td>28</td>\n",
              "      <td>28</td>\n",
              "      <td>28</td>\n",
              "      <td>28</td>\n",
              "    </tr>\n",
              "    <tr>\n",
              "      <th>3</th>\n",
              "      <td>31</td>\n",
              "      <td>31</td>\n",
              "      <td>31</td>\n",
              "      <td>31</td>\n",
              "    </tr>\n",
              "    <tr>\n",
              "      <th>4</th>\n",
              "      <td>30</td>\n",
              "      <td>30</td>\n",
              "      <td>30</td>\n",
              "      <td>30</td>\n",
              "    </tr>\n",
              "    <tr>\n",
              "      <th>5</th>\n",
              "      <td>31</td>\n",
              "      <td>31</td>\n",
              "      <td>31</td>\n",
              "      <td>31</td>\n",
              "    </tr>\n",
              "    <tr>\n",
              "      <th>6</th>\n",
              "      <td>30</td>\n",
              "      <td>30</td>\n",
              "      <td>30</td>\n",
              "      <td>30</td>\n",
              "    </tr>\n",
              "    <tr>\n",
              "      <th>7</th>\n",
              "      <td>31</td>\n",
              "      <td>31</td>\n",
              "      <td>31</td>\n",
              "      <td>31</td>\n",
              "    </tr>\n",
              "    <tr>\n",
              "      <th>8</th>\n",
              "      <td>31</td>\n",
              "      <td>31</td>\n",
              "      <td>31</td>\n",
              "      <td>31</td>\n",
              "    </tr>\n",
              "    <tr>\n",
              "      <th>9</th>\n",
              "      <td>30</td>\n",
              "      <td>30</td>\n",
              "      <td>30</td>\n",
              "      <td>30</td>\n",
              "    </tr>\n",
              "    <tr>\n",
              "      <th>10</th>\n",
              "      <td>31</td>\n",
              "      <td>31</td>\n",
              "      <td>31</td>\n",
              "      <td>31</td>\n",
              "    </tr>\n",
              "    <tr>\n",
              "      <th>11</th>\n",
              "      <td>30</td>\n",
              "      <td>30</td>\n",
              "      <td>30</td>\n",
              "      <td>30</td>\n",
              "    </tr>\n",
              "    <tr>\n",
              "      <th>12</th>\n",
              "      <td>31</td>\n",
              "      <td>31</td>\n",
              "      <td>31</td>\n",
              "      <td>31</td>\n",
              "    </tr>\n",
              "  </tbody>\n",
              "</table>\n",
              "</div>"
            ],
            "text/plain": [
              "       Berri  Mneuve1  Mneuve2  Brebeuf\n",
              "month                                  \n",
              "1         31       31       31       31\n",
              "2         28       28       28       28\n",
              "3         31       31       31       31\n",
              "4         30       30       30       30\n",
              "5         31       31       31       31\n",
              "6         30       30       30       30\n",
              "7         31       31       31       31\n",
              "8         31       31       31       31\n",
              "9         30       30       30       30\n",
              "10        31       31       31       31\n",
              "11        30       30       30       30\n",
              "12        31       31       31       31"
            ]
          },
          "metadata": {
            "tags": []
          },
          "execution_count": 42
        }
      ]
    },
    {
      "metadata": {
        "collapsed": true,
        "id": "ITMTaefvbCyn",
        "colab_type": "code",
        "colab": {}
      },
      "cell_type": "code",
      "source": [
        ""
      ],
      "execution_count": 0,
      "outputs": []
    }
  ]
}